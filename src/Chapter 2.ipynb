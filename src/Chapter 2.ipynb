{
 "cells": [
  {
   "cell_type": "markdown",
   "metadata": {},
   "source": [
    "# CHAPTER 2: Graph Types"
   ]
  },
  {
   "cell_type": "markdown",
   "metadata": {},
   "source": [
    "## Graph.class"
   ]
  },
  {
   "cell_type": "code",
   "execution_count": 3,
   "metadata": {
    "pycharm": {
     "name": "#%%\n"
    }
   },
   "outputs": [],
   "source": [
    "# Nodes \n",
    "import networkx as nx\n",
    "\n",
    "G = nx.Graph()\n",
    "\n",
    "# add one node at a time\n",
    "G.add_node(node_for_adding=1)\n",
    "\n",
    "# add the nodes from any container (a list, dict, set or even the lines from a file or the nodes from another graph)\n",
    "G.add_nodes_from(nodes_for_adding=[2, 3])\n",
    "G.add_nodes_from(nodes_for_adding=range(100, 110))\n",
    "H = nx.path_graph(n=10)\n",
    "G.add_nodes_from(nodes_for_adding=H)\n",
    "\n",
    "# any hashable object in Python can be turned into a node \n",
    "G.add_node(nodes_for_adding=H)\n"
   ]
  },
  {
   "cell_type": "code",
   "execution_count": 5,
   "metadata": {},
   "outputs": [],
   "source": [
    "# Edges \n",
    "import networkx as nx\n",
    "\n",
    "# graph can be grown by adding edges \n",
    "# add one edge \n",
    "G.add_edge(u_of_edge=1, v_of_edge=2)\n",
    "\n",
    "# add a list of edges \n",
    "G.add_edges_from(ebunch_to_add=[(1, 2), (1, 3)])\n",
    "\n",
    "# add a collection of edges \n",
    "G.add_edges_from(ebunch_to_add=H.edges)\n",
    "\n",
    "# note that if any node added by an edge function does not previously exist, the node is created prior to adding its \n",
    "# incident edge, and no errors are thrown/raised \n"
   ]
  },
  {
   "cell_type": "code",
   "execution_count": 17,
   "metadata": {},
   "outputs": [
    {
     "data": {
      "text/plain": [
       "5"
      ]
     },
     "execution_count": 17,
     "metadata": {},
     "output_type": "execute_result"
    }
   ],
   "source": [
    "# Attributes \n",
    "# any graph, node, or edge can store a unique dictionary of key/value pairs specified by the programmer \n",
    "# for nodes and edges, setting KV pairs as varargs in the function call performs the job \n",
    "\n",
    "import networkx as nx \n",
    "\n",
    "# graph attribute \n",
    "G = nx.Graph(day='Friday')\n",
    "print(G)\n",
    "\n",
    "# node attribute \n",
    "G.add_node(node_for_adding=1, time='5pm')\n",
    "G.add_nodes_from(nodes_for_adding=[3], time='2pm')\n",
    "print(G.nodes[1])\n",
    "G.nodes[1]['room'] = 714 # node must be already present in graph, sets new KV pair {'room' : 714}\n",
    "del G.nodes[1]['room'] # removes attribute 'room' from node with main value 1 \n",
    "print(list(G.nodes(data=True)))\n",
    "\n",
    "# edge attribute \n",
    "G.add_edge(u_of_edge=1, v_of_edge=2, weight=4.7) # adding edge from node 1 to node 2 with weight 4.7\n",
    "G.add_edges_from(ebunch_to_add=[(3, 4), (4, 5)], color='red') # adding two edges both with color red \n",
    "G.add_edges_from(ebunch_to_add=[(1, 2, {'color' : 'blue'}), (2, 3, {'weight' : 8})]) # adding two edges with separate attributes and values \n",
    "G[1][2]['weight'] = 4.7 # adding attribute weight 4.7 to pre-existing edge with endpoints 1 and 2 \n",
    "G.edges[1, 2]['weight'] = 4 # resetting attribute weight to 4 for edge with endpoints 1 and 2 \n",
    "\n",
    "# shortcuts \n",
    "print(1 in G) # is there a node in graph that has main value 1 ? \n",
    "[n for n in G if n < 3]) # iterate through nodes and collect all nodes with main value < 3 \n",
    "print(len(G)) # number of nodes in graph \n"
   ]
  },
  {
   "cell_type": "code",
   "execution_count": null,
   "metadata": {},
   "outputs": [],
   "source": []
  },
  {
   "cell_type": "code",
   "execution_count": null,
   "metadata": {},
   "outputs": [],
   "source": []
  },
  {
   "cell_type": "code",
   "execution_count": null,
   "metadata": {},
   "outputs": [],
   "source": []
  },
  {
   "cell_type": "code",
   "execution_count": null,
   "metadata": {},
   "outputs": [],
   "source": []
  }
 ],
 "metadata": {
  "kernelspec": {
   "display_name": "PyCharm (USP_Research_Summer_2020)",
   "language": "python",
   "name": "pycharm-997815bc"
  },
  "language_info": {
   "codemirror_mode": {
    "name": "ipython",
    "version": 3
   },
   "file_extension": ".py",
   "mimetype": "text/x-python",
   "name": "python",
   "nbconvert_exporter": "python",
   "pygments_lexer": "ipython3",
   "version": "3.8.2"
  },
  "varInspector": {
   "cols": {
    "lenName": 16,
    "lenType": 16,
    "lenVar": 40
   },
   "kernels_config": {
    "python": {
     "delete_cmd_postfix": "",
     "delete_cmd_prefix": "del ",
     "library": "var_list.py",
     "varRefreshCmd": "print(var_dic_list())"
    },
    "r": {
     "delete_cmd_postfix": ") ",
     "delete_cmd_prefix": "rm(",
     "library": "var_list.r",
     "varRefreshCmd": "cat(var_dic_list()) "
    }
   },
   "types_to_exclude": [
    "module",
    "function",
    "builtin_function_or_method",
    "instance",
    "_Feature"
   ],
   "window_display": false
  }
 },
 "nbformat": 4,
 "nbformat_minor": 1
}

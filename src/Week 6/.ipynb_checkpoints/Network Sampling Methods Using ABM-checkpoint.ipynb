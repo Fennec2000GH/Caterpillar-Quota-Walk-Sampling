{
 "cells": [
  {
   "cell_type": "markdown",
   "metadata": {},
   "source": [
    "# Network Sampling ABM"
   ]
  },
  {
   "cell_type": "markdown",
   "metadata": {},
   "source": [
    "Provides new class partly based on code from <i>Random Walk</i> but now provides functionality to model many sampling methods besides random walk."
   ]
  },
  {
   "cell_type": "markdown",
   "metadata": {},
   "source": [
    "## Network Sampling Functions"
   ]
  },
  {
   "cell_type": "markdown",
   "metadata": {},
   "source": [
    "Note that each sampling method simply returns the next chosen node to visit for an agent."
   ]
  },
  {
   "cell_type": "code",
   "execution_count": 2,
   "metadata": {},
   "outputs": [],
   "source": [
    "\n",
    "from __future__ import annotations\n",
    "\n",
    "def random_walk(agent: NXAgent):\n",
    "    \"\"\"Random Walk Algorithm\"\"\"\n",
    "    nt = agent.get_network()\n",
    "    neighbors = list(nx.neighbors(G=nt, n=agent.node))\n",
    "    new_node = np.random.choice(a=neighbors, size=None)\n",
    "    return new_node\n",
    "    \n",
    "    \n",
    "def random_walk_weighted(agent: NXAgent):\n",
    "    \"\"\"Random Walk Algorithm chooses next vertex based on percentage of vertex weight in neighborhood\"\"\"\n",
    "    nt = model.network\n",
    "    neighbors = list(nx.neighbors(G=nt, n=agent.node))\n",
    "    weights = []\n",
    "    for n in neighbors:\n",
    "        \"\"\"Generate list of weights for nodes\"\"\"\n",
    "        if 'weight' in n:\n",
    "            weights.append(float(n['weight']))\n",
    "        else:\n",
    "            weights.append(float(0))\n",
    "\n",
    "    new_node = np.random.choice(a=neighbors, p=weights)\n",
    "    return new_node\n",
    "        "
   ]
  },
  {
   "cell_type": "markdown",
   "metadata": {},
   "source": [
    "## Agent and Model Classes"
   ]
  },
  {
   "cell_type": "code",
   "execution_count": 5,
   "metadata": {
    "code_folding": [
     51,
     56,
     88
    ]
   },
   "outputs": [],
   "source": [
    "\n",
    "from __future__ import annotations\n",
    "from inspect import signature\n",
    "from mesa import Agent, Model\n",
    "from mesa.time import SimultaneousActivation\n",
    "import networkx as nx\n",
    "import numpy as np\n",
    "from typing import Any, Callable, Dict\n",
    "\n",
    "class NXAgent(Agent):\n",
    "    \"\"\"Agent integrated with networkx\"\"\"    \n",
    "    def __init__(self, unique_id: int, model: NSModel, node) -> None:\n",
    "        \"\"\"\n",
    "        Initializes required attributes under Agent\n",
    "        \n",
    "        Parameters\n",
    "        unique_id - unique id inherited from mesa.Agent\n",
    "        model - model inherited from mesa.Model\n",
    "        node - current node NXAgent is occupying in model\n",
    "        \"\"\"\n",
    "        super().__init__(unique_id=unique_id, model=model)\n",
    "        try:\n",
    "            if node not in model.network.nodes:\n",
    "                raise ValueError('node not in model\\'s network')\n",
    "        except ValueError as error:\n",
    "            print(str(error))\n",
    "            del self\n",
    "        self.extra_properties = Dict[str, Any]\n",
    "        self.node = node\n",
    "        self.visited = np.asarray(a=[node])\n",
    "    \n",
    "    @property\n",
    "    def algorithm(self) -> Callable:\n",
    "        \"\"\"Get network sampling method employed at each step of ABM\"\"\"\n",
    "        return self.__algorithm\n",
    "    \n",
    "    @algorithm.setter\n",
    "    def algorithm(self, new_algorithm: Callable) -> None:\n",
    "        \"\"\"Sets new algorithm / smapling method for agent\"\"\"\n",
    "        # Error checking for correct function signature\n",
    "        sig = signature(new_algorithm)\n",
    "        try:\n",
    "            if len(sig.parameters) != 1:\n",
    "                raise ValueError('new_algorithm must have one parameter')\n",
    "        except ValueError as error:\n",
    "            print(error)\n",
    "            return\n",
    "        self.__algorithm = new_algorithm\n",
    "        self.__visited_nodes = np.asarray(a=[])\n",
    "    \n",
    "    @property\n",
    "    def node(self) -> object:\n",
    "        \"\"\"Current node or vertex NXAgent owns\"\"\"\n",
    "        return self.__node\n",
    "    \n",
    "    @node.setter\n",
    "    def node(self, new_node) -> None:\n",
    "        \"\"\"\n",
    "        Sets new node or vertex for NXAgent to own\n",
    "        \n",
    "        Parameters\n",
    "        new_node - new node for current NXAgent object to be located at\n",
    "        \"\"\"\n",
    "        # Error checking for valid new node (existing in model) \n",
    "        try:\n",
    "            if not new_node in self.get_network():\n",
    "                raise ValueError('new node must be present in current model\\'s network')\n",
    "        except ValueError as error:\n",
    "            print(str(error))\n",
    "            return\n",
    "        self.__node = new_node\n",
    "    \n",
    "    @property\n",
    "    def visited_nodes(self) -> np.ndarray:\n",
    "        \"\"\"Array of visited nodes\"\"\"\n",
    "        return self.__visited_nodes\n",
    "    \n",
    "    @visited_nodes.setter\n",
    "    def visited_nodes(self, new_visited_nodes: np.ndarray) -> None:\n",
    "        \"\"\"Sets new history of visited nodes\"\"\"\n",
    "        self.__visited_nodes = new_visited_nodes\n",
    "    \n",
    "    # ACCESSORS\n",
    "    def get_network(self) -> nx.Graph:\n",
    "        \"\"\"Gets Networkx object, ie the network to be used in the model\"\"\"\n",
    "        return self.model.network\n",
    "    \n",
    "    # MUTATORS\n",
    "    def clear_visited_nodes(self) -> None:\n",
    "        \"\"\"Clears history of visited nodes\"\"\"\n",
    "        self.__visited_nodes.clear()\n",
    "    \n",
    "    def step(self):\n",
    "        \"\"\"What the agent does at each step of ABM\"\"\"\n",
    "        new_node = self.algorithm(agent=self)\n",
    "        self.node = new_node\n",
    "        self.visited_nodes = np.append(arr=self.visited_nodes, values=new_node)\n",
    "      \n",
    "# NS = Network Sampling\n",
    "class NSModel(Model):\n",
    "    \"\"\"Model integrated with networkx and base class for random walks\"\"\"\n",
    "    def __init__(self, algorithm: Callable, network: nx.Graph, num_agents: int, start_node) -> None:\n",
    "        \"\"\"\n",
    "        Initializes base network\n",
    "        \n",
    "        Parameters\n",
    "        algorithm - graph sampling method function, taking only two parameters (model and agent)\n",
    "        network - nx.Graph object model is based on\n",
    "        num_agents - number of NXAgent objects to add to schedule\n",
    "        start_node - node where all NXAgent objects initially reside\n",
    "        \"\"\"\n",
    "        super().__init__()\n",
    "        \n",
    "        # Checking for non-empty graph with nodes\n",
    "        try:\n",
    "            if nx.is_empty(G=network):\n",
    "                raise ValueError('network does not contain any nodes')\n",
    "            if num_agents < 0:\n",
    "                raise ValueError('number of agents cannot be negative')\n",
    "            if start_node not in network.nodes:\n",
    "                raise ValueError('start node is not in network')\n",
    "        except ValueError as error:\n",
    "            print(str(error))\n",
    "            del self\n",
    "            \n",
    "        # Building up network for model\n",
    "        self.network = network\n",
    "        self.start_node = start_node\n",
    "        self.schedule = SimultaneousActivation(model=self)\n",
    "        self.agents = np.asarray(a=[], dtype=NXAgent)\n",
    "        for id in np.arange(num_agents):\n",
    "            a = NXAgent(unique_id=id, model=self, node=start_node)\n",
    "            a.algorithm = algorithm\n",
    "            self.schedule.add(agent=a)\n",
    "            self.agents = np.append(arr=self.agents, values=a)\n",
    "\n",
    "    @property\n",
    "    def agents(self) -> np.ndarray:\n",
    "        \"\"\"Returns all NXAgents aboard the model\"\"\"\n",
    "        return self.__agents\n",
    "    \n",
    "    @agents.setter\n",
    "    def agents(self, new_agents: np.ndarray) -> None:\n",
    "        \"\"\"\n",
    "        Setter for agents\n",
    "        \n",
    "        Parameters\n",
    "        new_agents - numpy array of new NXAgent objects to repkace existing NXAgent objects\n",
    "        \"\"\"\n",
    "        # Error checking for agent node validity\n",
    "        try:\n",
    "            if not np.all(a=[agent.node in self.network.nodes for agent in new_agents]):\n",
    "                raise ValueError('Each element in new_agents must possess a node in current network')\n",
    "        except ValueError as error:\n",
    "            print(str(error))\n",
    "            return\n",
    "        self.__agents = new_agents\n",
    "\n",
    "    @property\n",
    "    def network(self) -> nx.Graph:\n",
    "        \"\"\"Base network holding the model\"\"\"\n",
    "        return self.__network\n",
    "    \n",
    "    @network.setter\n",
    "    def network(self, new_network: nx.Graph) -> None:\n",
    "        \"\"\"\n",
    "        Sets new network for model\n",
    "        \n",
    "        Parameters\n",
    "        new_network - new networkx graph for NXAgent objects to traverse through as model\n",
    "        \"\"\"\n",
    "        self.__network = new_network\n",
    "    \n",
    "    @property\n",
    "    def number_of_agents(self) -> int:\n",
    "        \"\"\"Count of NXAgents used by the model\"\"\"\n",
    "        return self.agents.size\n",
    "    \n",
    "    @property\n",
    "    def start_node(self):\n",
    "        \"\"\"Gets initialized node that all agents start at\"\"\"\n",
    "        return self.__start_node\n",
    "    \n",
    "    @start_node.setter\n",
    "    def start_node(self, new_start_node) -> None:\n",
    "        \"\"\"Resets start node for model\"\"\"\n",
    "        try:\n",
    "            if new_start_node not in self.network.nodes:\n",
    "                raise ValueError('new_start_node is not in current network')\n",
    "        except ValueError as error:\n",
    "            print(str(error))\n",
    "            return\n",
    "        self.__start_node = new_start_node\n",
    "    \n",
    "    # MUTATORS\n",
    "    def reset(self) -> None:\n",
    "        \"\"\"Resets all NXAgents back to start_node with cleared visit history\"\"\"\n",
    "        for agent in self.__agents:\n",
    "            agent.clear_visited_nodes()\n",
    "            agent.node = self.__start_node\n",
    "        \n",
    "    def step(self, num_steps: int) -> None:\n",
    "        \"\"\"\n",
    "        Activates model to run n steps for each NXAgent\n",
    "        \n",
    "        Parameters\n",
    "        num_steps - number of steps for each NXAgent to step through\n",
    "        \"\"\"\n",
    "        for step_number in np.arange(num_steps):\n",
    "            self.schedule.step()\n"
   ]
  },
  {
   "cell_type": "markdown",
   "metadata": {},
   "source": [
    "## Testing NSModel"
   ]
  },
  {
   "cell_type": "code",
   "execution_count": 6,
   "metadata": {},
   "outputs": [
    {
     "name": "stdout",
     "output_type": "stream",
     "text": [
      "Agent: 0, visited_nodes: [1. 2. 3. 2. 1.]\n",
      "Agent: 1, visited_nodes: [19.  0.  1.  2.  3.]\n",
      "Agent: 2, visited_nodes: [1. 0. 1. 0. 1.]\n",
      "Agent: 3, visited_nodes: [19.  0. 19. 18. 17.]\n",
      "Agent: 4, visited_nodes: [1. 0. 1. 2. 1.]\n"
     ]
    }
   ],
   "source": [
    "\n",
    "import networkx as nx\n",
    "\n",
    "nsmodel = NSModel(algorithm=random_walk, network=nx.cycle_graph(n=20), num_agents=5, start_node=0)\n",
    "nsmodel.step(num_steps=5)\n",
    "for agent in nsmodel.agents:\n",
    "    \"\"\"Prints out journey of each agent\"\"\"\n",
    "    print(f'Agent: {agent.unique_id}, visited_nodes: {agent.visited_nodes}')\n"
   ]
  },
  {
   "cell_type": "markdown",
   "metadata": {},
   "source": [
    "## NSTest"
   ]
  },
  {
   "cell_type": "markdown",
   "metadata": {},
   "source": [
    "Complete testing framework for sampling simulation model, evaluated by an agent-based model."
   ]
  },
  {
   "cell_type": "code",
   "execution_count": null,
   "metadata": {},
   "outputs": [],
   "source": [
    "\n",
    "from collections import namedtuple\n",
    "import param\n",
    "\n",
    "\n",
    "class NSTest:\n",
    "    \"\"\"Framework creates, executes, and evaluates performance on network sampling algorithms\"\"\"\n",
    "    def __init__(self, num_trials: int) -> None:\n",
    "        \"\"\"Initializes\"\"\"\n",
    "        self.num_trials = Param.Integer()\n",
    "\n"
   ]
  },
  {
   "cell_type": "code",
   "execution_count": null,
   "metadata": {},
   "outputs": [],
   "source": []
  },
  {
   "cell_type": "code",
   "execution_count": null,
   "metadata": {},
   "outputs": [],
   "source": []
  },
  {
   "cell_type": "code",
   "execution_count": null,
   "metadata": {},
   "outputs": [],
   "source": []
  }
 ],
 "metadata": {
  "kernelspec": {
   "display_name": "Python 3",
   "language": "python",
   "name": "python3"
  },
  "language_info": {
   "codemirror_mode": {
    "name": "ipython",
    "version": 3
   },
   "file_extension": ".py",
   "mimetype": "text/x-python",
   "name": "python",
   "nbconvert_exporter": "python",
   "pygments_lexer": "ipython3",
   "version": "3.7.6"
  },
  "varInspector": {
   "cols": {
    "lenName": 16,
    "lenType": 16,
    "lenVar": 40
   },
   "kernels_config": {
    "python": {
     "delete_cmd_postfix": "",
     "delete_cmd_prefix": "del ",
     "library": "var_list.py",
     "varRefreshCmd": "print(var_dic_list())"
    },
    "r": {
     "delete_cmd_postfix": ") ",
     "delete_cmd_prefix": "rm(",
     "library": "var_list.r",
     "varRefreshCmd": "cat(var_dic_list()) "
    }
   },
   "types_to_exclude": [
    "module",
    "function",
    "builtin_function_or_method",
    "instance",
    "_Feature"
   ],
   "window_display": false
  }
 },
 "nbformat": 4,
 "nbformat_minor": 4
}

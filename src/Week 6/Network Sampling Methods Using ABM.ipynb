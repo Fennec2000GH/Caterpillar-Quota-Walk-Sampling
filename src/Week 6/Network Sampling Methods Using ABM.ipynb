{
 "cells": [
  {
   "cell_type": "markdown",
   "metadata": {},
   "source": [
    "# Network Sampling ABM"
   ]
  },
  {
   "cell_type": "markdown",
   "metadata": {},
   "source": [
    "Provides new class partly based on code from <i>Random Walk</i> but now provides functionality to model many sampling methods besides random walk."
   ]
  },
  {
   "cell_type": "markdown",
   "metadata": {},
   "source": [
    "## Network Sampling Functions"
   ]
  },
  {
   "cell_type": "code",
   "execution_count": 8,
   "metadata": {},
   "outputs": [],
   "source": [
    "\n",
    "from __future__ import annotations\n",
    "\n",
    "def random_walk(model: NSModel, agent: NXAgent) -> None:\n",
    "    \"\"\"Random Walk Algorithm\"\"\"\n",
    "    nt = model.get_network()\n",
    "    neighbors = list(nx.neighbors(G=nt, n=agent.node))\n",
    "    new_node = np.random.choice(a=neighbors, size=None)\n",
    "    agent.node = new_node\n",
    "    agent.__visited.append(new_node)\n",
    "    \n",
    "def random_walk_weighted(model: NSModel, agent: NXAgent) -> None:\n",
    "    \"\"\"Random Walk Algorithm chooses next vertex based on percentage of vertex weight in neighborhood\"\"\"\n",
    "    nt = model.get_network()\n",
    "    neighbors = list(nx.neighbors(G=nt, n=agent.node))\n",
    "    weights = []\n",
    "    for n in neighbors:\n",
    "        \"\"\"Generate list of weights for nodes\"\"\"\n",
    "        if 'weight' in n:\n",
    "            weights.append(float(n['weight']))\n",
    "        else:\n",
    "            weights.append(float(0))\n",
    "\n",
    "    new_node = np.random.choice(a=neighbors, p=weights)\n",
    "    agent.node = new_node\n",
    "    agent.__visited.append(new_node)\n",
    "        "
   ]
  },
  {
   "cell_type": "markdown",
   "metadata": {},
   "source": [
    "## Agent and Model Classes"
   ]
  },
  {
   "cell_type": "code",
   "execution_count": 9,
   "metadata": {},
   "outputs": [
    {
     "ename": "IndentationError",
     "evalue": "unexpected indent (<ipython-input-9-3c9eeca0d42c>, line 10)",
     "output_type": "error",
     "traceback": [
      "\u001b[0;36m  File \u001b[0;32m\"<ipython-input-9-3c9eeca0d42c>\"\u001b[0;36m, line \u001b[0;32m10\u001b[0m\n\u001b[0;31m    algorithms = {'Random Walk': random_walk, 'Random Walk Weighted': random_walk_weighted}\u001b[0m\n\u001b[0m    ^\u001b[0m\n\u001b[0;31mIndentationError\u001b[0m\u001b[0;31m:\u001b[0m unexpected indent\n"
     ]
    }
   ],
   "source": [
    "\n",
    "from __future__ import annotations\n",
    "from mesa import Agent, Model\n",
    "from mesa.time import SimultaneousActivation\n",
    "import networkx as nx\n",
    "import numpy as np\n",
    "from typing import Callable\n",
    "\n",
    "class NXAgent(Agent):\n",
    "    \"\"\"Agent integrated with networkx\"\"\"    \n",
    "    def __init__(self, unique_id: int, model: NSModel, node) -> None:\n",
    "        \"\"\"\n",
    "        Initializes required attributes under Agent\n",
    "        \n",
    "        Parameters\n",
    "        unique_id - unique id inherited from mesa.Agent\n",
    "        model - model inherited from mesa.Model\n",
    "        node - current node NXAgent is occupying in model\n",
    "        \"\"\"\n",
    "        super().__init__(unique_id=unique_id, model=model)\n",
    "        try:\n",
    "            if node not in model.network.nodes:\n",
    "                raise ValueError('node not in model\\'s network')\n",
    "        except ValueError as error:\n",
    "            print(str(error))\n",
    "            del self\n",
    "        self.node = node\n",
    "        self.visited = np.asarray(a=[node])\n",
    "    \n",
    "    @property\n",
    "    def node(self) -> object:\n",
    "        \"\"\"Current node or vertex NXAgent owns\"\"\"\n",
    "        return self.__node\n",
    "    \n",
    "    @node.setter\n",
    "    def node(self, new_node) -> None:\n",
    "        \"\"\"\n",
    "        Sets new node or vertex for NXAgent to own\n",
    "        \n",
    "        Parameters\n",
    "        new_node - new node for current NXAgent object to be located at\n",
    "        \"\"\"\n",
    "        # Error checking for valid new node (existing in model) \n",
    "        try:\n",
    "            if not new_node in self.get_network():\n",
    "                raise ValueError('new node must be present in current model\\'s network')\n",
    "        except ValueError as error:\n",
    "            print(str(error))\n",
    "            return\n",
    "        self.__node = new_node\n",
    "    \n",
    "    @property\n",
    "    def visited_nodes(self) -> np.ndarray:\n",
    "        \"\"\"Array of visited nodes\"\"\"\n",
    "        return self.__visited\n",
    "    \n",
    "    # ACCESSORS\n",
    "    def get_network(self) -> nx.Graph:\n",
    "        \"\"\"Gets Networkx object, ie the network to be used in the model\"\"\"\n",
    "        return self.model.network\n",
    "    \n",
    "    # MUTATORS\n",
    "    def clear_visited_nodes(self) -> None:\n",
    "        \"\"\"Clears history of visited nodes\"\"\"\n",
    "        self.__visited.clear()\n",
    "    \n",
    "    def step(self):\n",
    "        \"\"\"Overriden step method from Agent\"\"\"\n",
    "        pass\n",
    "      \n",
    "# NS = Network Sampling\n",
    "class NSModel(Model):\n",
    "    \"\"\"Model integrated with networkx and base class for random walks\"\"\"\n",
    "    def __init__(self, algorithm: Callable, network: nx.Graph, num_agents: int, start_node) -> None:\n",
    "        \"\"\"\n",
    "        Initializes base network\n",
    "        \n",
    "        Parameters\n",
    "        algorithm - graph sampling method function, taking only two parameters (model and agent)\n",
    "        network - nx.Graph object model is based on\n",
    "        num_agents - number of NXAgent objects to add to schedule\n",
    "        start_node - node where all NXAgent objects initially reside\n",
    "        \"\"\"\n",
    "        super().__init__()\n",
    "        \n",
    "        # Checking for non-empty graph with nodes\n",
    "        try:\n",
    "            if nx.is_empty(G=network):\n",
    "                raise ValueError('network does not contain any nodes')\n",
    "            if num_agents < 0:\n",
    "                raise ValueError('number of agents cannot be negative')\n",
    "            if start_node not in G.nodes:\n",
    "                raise ValueError('start node is not in network')\n",
    "        except ValueError as error:\n",
    "            print(str(error))\n",
    "            del self\n",
    "            \n",
    "        # Building up network for model\n",
    "        self.network = network\n",
    "        self.start_node = start_node\n",
    "        self.schedule = SimultaneousActivation(model=self)\n",
    "        self.agents = np.asarray(a=[], dtype=NXAgent)\n",
    "        for id in np.arange(num_agents):\n",
    "            a = NXAgent(unique_id=id, model=self, node=start_node)\n",
    "            a.step = algorithm(model=self, agent=a)\n",
    "            self.schedule.add(agent=a)\n",
    "            self.agents = np.append(arr=self.agents, values=a)\n",
    "\n",
    "    @property\n",
    "    def agents(self) -> np.ndarray:\n",
    "        \"\"\"Returns all NXAgents aboard the model\"\"\"\n",
    "        return self.__agents\n",
    "    \n",
    "    @agents.setter\n",
    "    def agents(self, new_agents: np.ndarray) -> None:\n",
    "        \"\"\"\n",
    "        Setter for agents\n",
    "        \n",
    "        Parameters\n",
    "        new_agents - numpy array of new NXAgent objects to repkace existing NXAgent objects\n",
    "        \"\"\"\n",
    "        # Error checking for correct input type\n",
    "        try:\n",
    "            if not np.all(a=[type(a) == NXAgent for a in new_agents], axis=None):\n",
    "                raise ValueError('Each element in new_agents must be of type NXAgent')\n",
    "        except ValueError as error:\n",
    "            print(str(error))\n",
    "            return\n",
    "        self.__agents = new_agents\n",
    "\n",
    "    @property\n",
    "    def network(self) -> nx.Graph:\n",
    "        \"\"\"Base network holding the model\"\"\"\n",
    "        return self.__network\n",
    "    \n",
    "    @network.setter\n",
    "    def network(self, new_network: nx.Graph) -> None:\n",
    "        \"\"\"\n",
    "        Sets new network for model\n",
    "        \n",
    "        Parameters\n",
    "        new_network - new networkx graph for NXAgent objects to traverse through as model\n",
    "        \"\"\"\n",
    "        self.__network = new_network\n",
    "    \n",
    "    @property\n",
    "    def number_of_agents(self) -> int:\n",
    "        \"\"\"Count of NXAgents used by the model\"\"\"\n",
    "        return self.agents.size\n",
    "    \n",
    "    @property\n",
    "    def start_node(self):\n",
    "        \"\"\"Gets initialized node that all agents start at\"\"\"\n",
    "        return self.__start_node\n",
    "    \n",
    "    @start_node.setter\n",
    "    def start_node(self, new_start_node) -> None:\n",
    "        \"\"\"Resets start node for model\"\"\"\n",
    "        try:\n",
    "            if new_start_node not in self.network.nodes:\n",
    "                raise ValueError('new_start_node is not in current network')\n",
    "        except ValueError as error:\n",
    "            print(str(error))\n",
    "            return\n",
    "        self.__start_node = new_start_node\n",
    "    \n",
    "    # MUTATORS\n",
    "    def reset(self) -> None:\n",
    "        \"\"\"Resets all NXAgents back to start_node with cleared visit history\"\"\"\n",
    "        for agent in self.__agents:\n",
    "            agent.clear_visited_nodes()\n",
    "            agent.node = self.__start_node\n",
    "        \n",
    "    def step(self, num_steps: int) -> None:\n",
    "        \"\"\"\n",
    "        Activates model to run n steps for each NXAgent\n",
    "        \n",
    "        Parameters\n",
    "        num_steps - number of steps for each NXAgent to step through\n",
    "        \"\"\"\n",
    "        for step_number in np.arange(num_steps):\n",
    "            self.schedule.step()\n",
    "        "
   ]
  },
  {
   "cell_type": "markdown",
   "metadata": {},
   "source": []
  },
  {
   "cell_type": "code",
   "execution_count": null,
   "metadata": {},
   "outputs": [],
   "source": [
    "\n"
   ]
  },
  {
   "cell_type": "code",
   "execution_count": 3,
   "metadata": {},
   "outputs": [
    {
     "data": {
      "text/html": [
       "\n",
       "        <iframe\n",
       "            width=\"600\"\n",
       "            height=\"600\"\n",
       "            src=\"nt.html\"\n",
       "            frameborder=\"0\"\n",
       "            allowfullscreen\n",
       "        ></iframe>\n",
       "        "
      ],
      "text/plain": [
       "<IPython.lib.display.IFrame at 0x7fb6bc56ccd0>"
      ]
     },
     "execution_count": 3,
     "metadata": {},
     "output_type": "execute_result"
    }
   ],
   "source": [
    "\n",
    "import networkx as nx\n",
    "from pyvis.network import Network\n",
    "\n",
    "G = nx.complete_graph(n=12)\n",
    "\n",
    "nt = Network(width=600, height=600, directed=False, notebook=True)\n",
    "nt.from_nx(nx_graph=G)\n",
    "nt.show(name='nt.html')\n"
   ]
  },
  {
   "cell_type": "code",
   "execution_count": null,
   "metadata": {},
   "outputs": [],
   "source": []
  },
  {
   "cell_type": "code",
   "execution_count": null,
   "metadata": {},
   "outputs": [],
   "source": []
  },
  {
   "cell_type": "code",
   "execution_count": null,
   "metadata": {},
   "outputs": [],
   "source": []
  },
  {
   "cell_type": "code",
   "execution_count": null,
   "metadata": {},
   "outputs": [],
   "source": []
  },
  {
   "cell_type": "code",
   "execution_count": null,
   "metadata": {},
   "outputs": [],
   "source": []
  },
  {
   "cell_type": "code",
   "execution_count": null,
   "metadata": {},
   "outputs": [],
   "source": [
    "\n"
   ]
  }
 ],
 "metadata": {
  "kernelspec": {
   "display_name": "Python 3",
   "language": "python",
   "name": "python3"
  },
  "language_info": {
   "codemirror_mode": {
    "name": "ipython",
    "version": 3
   },
   "file_extension": ".py",
   "mimetype": "text/x-python",
   "name": "python",
   "nbconvert_exporter": "python",
   "pygments_lexer": "ipython3",
   "version": "3.7.6"
  },
  "varInspector": {
   "cols": {
    "lenName": 16,
    "lenType": 16,
    "lenVar": 40
   },
   "kernels_config": {
    "python": {
     "delete_cmd_postfix": "",
     "delete_cmd_prefix": "del ",
     "library": "var_list.py",
     "varRefreshCmd": "print(var_dic_list())"
    },
    "r": {
     "delete_cmd_postfix": ") ",
     "delete_cmd_prefix": "rm(",
     "library": "var_list.r",
     "varRefreshCmd": "cat(var_dic_list()) "
    }
   },
   "types_to_exclude": [
    "module",
    "function",
    "builtin_function_or_method",
    "instance",
    "_Feature"
   ],
   "window_display": false
  }
 },
 "nbformat": 4,
 "nbformat_minor": 4
}

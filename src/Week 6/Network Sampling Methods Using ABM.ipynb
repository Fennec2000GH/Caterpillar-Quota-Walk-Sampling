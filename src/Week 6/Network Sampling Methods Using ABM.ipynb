{
 "cells": [
  {
   "cell_type": "markdown",
   "metadata": {},
   "source": [
    "# Network Sampling ABM"
   ]
  },
  {
   "cell_type": "markdown",
   "metadata": {},
   "source": [
    "Provides new class partly based on code from <i>Random Walk</i> but now provides functionality to model many sampling methods besides random walk."
   ]
  },
  {
   "cell_type": "code",
   "execution_count": 6,
   "metadata": {},
   "outputs": [],
   "source": [
    "\n",
    "from mesa import Agent, Model\n",
    "from mesa.time import SimultaneousActivation\n",
    "import networkx as nx\n",
    "import numpy as np\n",
    "\n",
    "# NS = Network Sampling\n",
    "class NSModel:\n",
    "    pass\n",
    "\n",
    "class NXAgent(Agent):\n",
    "    \"\"\"Agent integrated with networkx\"\"\"\n",
    "    def __init__(self, unique_id: int, model: NSModel, node):\n",
    "        \"\"\"Initializes required attributes under Agent\"\"\"\n",
    "        super().__init__(unique_id=unique_id, model=model)\n",
    "        try:\n",
    "            assert node in model.network.nodes\n",
    "        except AssertionError as error:\n",
    "            print(str(error))\n",
    "            del self\n",
    "        self.node = node\n",
    "        self.visited = [node]\n",
    "    \n",
    "    @property\n",
    "    def node(self) -> object:\n",
    "        \"\"\"Current node or vertex NXAgent owns\"\"\"\n",
    "        return self.__node\n",
    "    \n",
    "    @node.setter\n",
    "    def node(self, new_node) -> None:\n",
    "        \"\"\"Sets new node or vertex for NXAgent to own\"\"\"\n",
    "        self.__node = new_node\n",
    "    \n",
    "    @property\n",
    "    def visited(self) -> list:\n",
    "        \"\"\"List of visited nodes\"\"\"\n",
    "        return self.__visited\n",
    "    \n",
    "    @visited.setter\n",
    "    def visited(self, new_visited: list) -> None:\n",
    "        \"\"\"Sets new visited history list\"\"\"\n",
    "        self.__visited = new_visited\n",
    "    \n",
    "    # ACCESSORS\n",
    "    def get_network(self):\n",
    "        \"\"\"Gets Networkx object, ie the network to be used in the model\"\"\"\n",
    "        return self.model.network\n",
    "    \n",
    "    # MUTATORS\n",
    "    def clear(self):\n",
    "        \"\"\"Clears history of visited nodes\"\"\"\n",
    "        self.__visited.clear()\n",
    "    \n",
    "    def step(self):\n",
    "        \"\"\"Overriden step method from Agent\"\"\"\n",
    "        pass\n",
    "      \n",
    "# NS = Network Sampling\n",
    "class NSModel(Model):\n",
    "    \"\"\"Model integrated with networkx and base class for random walks\"\"\"\n",
    "    def __random_walk(model: NSModel, agent: NXAgent) -> None:\n",
    "        \"\"\"Random Walk Algorithm\"\"\"\n",
    "        nt = model.get_network()\n",
    "        neighbors = list(nx.neighbors(G=nt, n=agent.node))\n",
    "        new_node = np.random.choice(a=neighbors, size=None)\n",
    "        agent.node = new_node\n",
    "        agent.__visited.append(new_node)\n",
    "    \n",
    "    def __random_walk_weighted(model: NSModel, agent: NXAgent):\n",
    "        \"\"\"Random Walk Algorithm chooses next vertex based on percentage of vertex weight in neighborhood\"\"\"\n",
    "        nt = model.get_network()\n",
    "        neighbors = list(nx.neighbors(G=nt, n=agent.node))\n",
    "        weights = []\n",
    "        for n in neighbors:\n",
    "            \"\"\"Generate list of weights for nodes\"\"\"\n",
    "            if 'weight' in n:\n",
    "                weights.append(float(n['weight']))\n",
    "            else:\n",
    "                weights.append(float(0))\n",
    "                \n",
    "        new_node = np.random.choice(a=neighbors, p=weights)\n",
    "        agent.node = new_node\n",
    "        agent.__visited.append(new_node)\n",
    "        \n",
    "    algorithm_choices = {'random walk': __random_walk, \n",
    "                 'random walk weighted': __random_walk_weighted}\n",
    "\n",
    "    def __init__(self, algorithm: str, G: nx.Graph, n: int, start_node) -> None:\n",
    "        \"\"\"Initializes base network\"\"\"\n",
    "        super().__init__()\n",
    "        \n",
    "        # Checking for non-empty graph with nodes\n",
    "        try:\n",
    "            assert not nx.is_empty(G=G)\n",
    "            assert n >= 0\n",
    "            if type(start_node) == list:\n",
    "                for n in start_node:\n",
    "                    assert n in G.nodes\n",
    "            else:\n",
    "                assert start_node in G.nodes\n",
    "        except AssertionError as error:\n",
    "            print(str(error))\n",
    "            del self\n",
    "            \n",
    "        # Building up network for model\n",
    "        self.network = G\n",
    "        self.number_of_agents = n\n",
    "        self.__start_node = start_node\n",
    "        self.schedule = SimultaneousActivation(model=self)\n",
    "        self.agents = []\n",
    "        if type(start_node) == list:\n",
    "            for id, start in enumerate(start_node, start=0):\n",
    "                a = NXAgent(unique_id=id, model=self, node=start)\n",
    "                self.schedule.add(agent=a)\n",
    "                self.agents.append(a)\n",
    "            return\n",
    "        for id in np.arange(self.number_of_agents):\n",
    "            a = NXAgent(unique_id=id, model=self, node=start_node)\n",
    "            func = NSModel.algorithm_choices.get(algorithm)\n",
    "            a.step = func(model=self, agent=a)\n",
    "            self.schedule.add(agent=a)\n",
    "            self.agents.append(a)\n",
    "    \n",
    "    @property\n",
    "    def network(self):\n",
    "        \"\"\"Base network holding the model\"\"\"\n",
    "        return self.__network\n",
    "    \n",
    "    @network.setter\n",
    "    def network(self, new_network: nx.Graph):\n",
    "        \"\"\"Sets new network for model\"\"\"\n",
    "        self.__network = new_network\n",
    "    \n",
    "    @property\n",
    "    def number_of_agents(self):\n",
    "        \"\"\"Count of NXAgents used by the model\"\"\"\n",
    "        return self.__number_of_agents\n",
    "    \n",
    "    @number_of_agents.setter\n",
    "    def number_of_agents(self, new_n):\n",
    "        \"\"\"Sets a new count of NXAgents for the model\"\"\"\n",
    "        self.__number_of_agents = new_n\n",
    "    \n",
    "    @property\n",
    "    def agents(self):\n",
    "        \"\"\"Returns all NXAgents aboard the model\"\"\"\n",
    "        return self.__agents\n",
    "    \n",
    "    @agents.setter\n",
    "    def agents(self, new_agents: list):\n",
    "        \"\"\"Setter for agents\"\"\"\n",
    "        self.__agents = new_agents\n",
    "    \n",
    "    def reset(self):\n",
    "        \"\"\"Resets all NXAgents back to start_node with cleared visit history\"\"\"\n",
    "        for agent in self.__agents:\n",
    "            agent.clear()\n",
    "            agent.node = self.__start_node\n",
    "        \n",
    "    def step(self, n: int):\n",
    "        \"\"\"Activates model to run n steps for each NXAgent\"\"\"\n",
    "        for step_number in np.arange(n):\n",
    "            self.schedule.step()\n",
    "        "
   ]
  },
  {
   "cell_type": "code",
   "execution_count": 10,
   "metadata": {},
   "outputs": [
    {
     "data": {
      "text/html": [
       "\n",
       "        <iframe\n",
       "            width=\"600\"\n",
       "            height=\"600\"\n",
       "            src=\"nt.html\"\n",
       "            frameborder=\"0\"\n",
       "            allowfullscreen\n",
       "        ></iframe>\n",
       "        "
      ],
      "text/plain": [
       "<IPython.lib.display.IFrame at 0x7fac157ef650>"
      ]
     },
     "execution_count": 10,
     "metadata": {},
     "output_type": "execute_result"
    }
   ],
   "source": [
    "\n",
    "import networkx as nx\n",
    "from pyvis.network import Network\n",
    "\n",
    "G = nx.complete_graph(n=12)\n",
    "\n",
    "nt = Network(width=600, height=600, directed=False, notebook=True)\n",
    "nt.from_nx(nx_graph=G)\n",
    "nt.show(name='nt.html')\n"
   ]
  },
  {
   "cell_type": "code",
   "execution_count": null,
   "metadata": {},
   "outputs": [],
   "source": []
  },
  {
   "cell_type": "code",
   "execution_count": null,
   "metadata": {},
   "outputs": [],
   "source": []
  },
  {
   "cell_type": "code",
   "execution_count": null,
   "metadata": {},
   "outputs": [],
   "source": []
  },
  {
   "cell_type": "code",
   "execution_count": null,
   "metadata": {},
   "outputs": [],
   "source": []
  },
  {
   "cell_type": "code",
   "execution_count": null,
   "metadata": {},
   "outputs": [],
   "source": []
  },
  {
   "cell_type": "code",
   "execution_count": null,
   "metadata": {},
   "outputs": [],
   "source": [
    "\n"
   ]
  }
 ],
 "metadata": {
  "kernelspec": {
   "display_name": "Python 3",
   "language": "python",
   "name": "python3"
  },
  "language_info": {
   "codemirror_mode": {
    "name": "ipython",
    "version": 3
   },
   "file_extension": ".py",
   "mimetype": "text/x-python",
   "name": "python",
   "nbconvert_exporter": "python",
   "pygments_lexer": "ipython3",
   "version": "3.7.6"
  },
  "varInspector": {
   "cols": {
    "lenName": 16,
    "lenType": 16,
    "lenVar": 40
   },
   "kernels_config": {
    "python": {
     "delete_cmd_postfix": "",
     "delete_cmd_prefix": "del ",
     "library": "var_list.py",
     "varRefreshCmd": "print(var_dic_list())"
    },
    "r": {
     "delete_cmd_postfix": ") ",
     "delete_cmd_prefix": "rm(",
     "library": "var_list.r",
     "varRefreshCmd": "cat(var_dic_list()) "
    }
   },
   "types_to_exclude": [
    "module",
    "function",
    "builtin_function_or_method",
    "instance",
    "_Feature"
   ],
   "window_display": false
  }
 },
 "nbformat": 4,
 "nbformat_minor": 4
}

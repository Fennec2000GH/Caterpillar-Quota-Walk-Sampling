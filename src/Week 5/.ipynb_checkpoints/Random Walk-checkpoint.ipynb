{
 "cells": [
  {
   "cell_type": "markdown",
   "metadata": {},
   "source": [
    "# Random Walks"
   ]
  },
  {
   "cell_type": "markdown",
   "metadata": {},
   "source": [
    "This notebook illustrates different implementations of random walk on different graphs."
   ]
  },
  {
   "cell_type": "markdown",
   "metadata": {},
   "source": [
    "## NWAgent and NWModel class"
   ]
  },
  {
   "cell_type": "code",
   "execution_count": 2,
   "metadata": {},
   "outputs": [],
   "source": [
    "\n",
    "from mesa import Agent, Model\n",
    "from mesa.time import SimultaneousActivation\n",
    "import networkx as nx\n",
    "import numpy as np\n",
    "\n",
    "class RandomWalkModel:\n",
    "    pass\n",
    "\n",
    "class NXAgent(Agent):\n",
    "    \"\"\"Agent integrated with networkx\"\"\"\n",
    "    def __init__(self, unique_id: int, model: RandomWalkModel, node):\n",
    "        \"\"\"Initializes required attributes under Agent\"\"\"\n",
    "        super().__init__(unique_id=unique_id, model=model)\n",
    "        try:\n",
    "            assert node in model.network.nodes\n",
    "        except AssertionError as error:\n",
    "            print(str(error))\n",
    "            del self\n",
    "        self.node = node\n",
    "        self.visited = [node]\n",
    "    \n",
    "    @property\n",
    "    def node(self):\n",
    "        \"\"\"Current node or vertex NXAgent owns\"\"\"\n",
    "        return self.__node\n",
    "    \n",
    "    @node.setter\n",
    "    def node(self, new_node):\n",
    "        \"\"\"Sets new node or vertex for NXAgent to own\"\"\"\n",
    "        self.__node = new_node\n",
    "    \n",
    "    @property\n",
    "    def visited(self):\n",
    "        \"\"\"List of visited nodes\"\"\"\n",
    "        return self.__visited\n",
    "    \n",
    "    @visited.setter\n",
    "    def visited(self, new_visited: list):\n",
    "        \"\"\"Sets new visited history list\"\"\"\n",
    "        self.__visited = new_visited\n",
    "    \n",
    "    def clear(self):\n",
    "        \"\"\"Clears history of visited nodes\"\"\"\n",
    "        self.__visited.clear()\n",
    "    \n",
    "    def step(self):\n",
    "        \"\"\"Overriden step method from Agent\"\"\"\n",
    "        neighbors = list(nx.neighbors(G=self.model.network, n=self.node))\n",
    "        new_node = np.random.choice(a=neighbors, size=None)\n",
    "        self.node = new_node\n",
    "        self.__visited.append(new_node)\n",
    "        \n",
    "class RandomWalkModel(Model):\n",
    "    \"\"\"Model integrated with networkx and base class for random walks\"\"\"\n",
    "    def __init__(self, G: nx.Graph, n: int, start_node):\n",
    "        \"\"\"Initializes base network\"\"\"\n",
    "        super().__init__()\n",
    "        try:\n",
    "            assert not nx.is_empty(G=G)\n",
    "            assert n >= 0\n",
    "            if type(start_node) == list:\n",
    "                for n in start_node:\n",
    "                    assert n in G.nodes\n",
    "            else:\n",
    "                assert start_node in G.nodes\n",
    "        except AssertionError as error:\n",
    "            print(str(error))\n",
    "            del self\n",
    "        self.network = G\n",
    "        self.number_of_agents = n\n",
    "        self.__start_node = start_node\n",
    "        self.schedule = SimultaneousActivation(model=self)\n",
    "        self.agents = []\n",
    "        if type(start_node) == list:\n",
    "            for id, start in enumerate(start_node, start=0):\n",
    "                a = NXAgent(unique_id=id, model=self, node=start)\n",
    "                self.schedule.add(agent=a)\n",
    "                self.agents.append(a)\n",
    "            return\n",
    "        for id in np.arange(self.number_of_agents):\n",
    "            a = NXAgent(unique_id=id, model=self, node=start_node)\n",
    "            self.schedule.add(agent=a)\n",
    "            self.agents.append(a)\n",
    "    \n",
    "    @property\n",
    "    def network(self):\n",
    "        \"\"\"Base network holding the model\"\"\"\n",
    "        return self.__network\n",
    "    \n",
    "    @network.setter\n",
    "    def network(self, new_network: nx.Graph):\n",
    "        \"\"\"Sets new network for model\"\"\"\n",
    "        self.__network = new_network\n",
    "    \n",
    "    @property\n",
    "    def number_of_agents(self):\n",
    "        \"\"\"Count of NXAgents used by the model\"\"\"\n",
    "        return self.__number_of_agents\n",
    "    \n",
    "    @number_of_agents.setter\n",
    "    def number_of_agents(self, new_n):\n",
    "        \"\"\"Sets a new count of NXAgents for the model\"\"\"\n",
    "        self.__number_of_agents = new_n\n",
    "    \n",
    "    @property\n",
    "    def agents(self):\n",
    "        \"\"\"Returns all NXAgents aboard the model\"\"\"\n",
    "        return self.__agents\n",
    "    \n",
    "    @agents.setter\n",
    "    def agents(self, new_agents: list):\n",
    "        \"\"\"Setter for agents\"\"\"\n",
    "        self.__agents = new_agents\n",
    "    \n",
    "    def reset(self):\n",
    "        \"\"\"Resets all NXAgents back to start_node with cleared visit history\"\"\"\n",
    "        for agent in self.__agents:\n",
    "            agent.clear()\n",
    "            agent.node = self.__start_node\n",
    "        \n",
    "    def step(self, n: int):\n",
    "        \"\"\"Activates model to run n steps for each NXAgent\"\"\"\n",
    "        for step_number in np.arange(n):\n",
    "            self.schedule.step()\n",
    "        "
   ]
  },
  {
   "cell_type": "code",
   "execution_count": 20,
   "metadata": {},
   "outputs": [
    {
     "name": "stdout",
     "output_type": "stream",
     "text": [
      "NWAgent 0: [0, 1, 0, 1, 0, 1]\n",
      "NWAgent 1: [0, 1, 0, 1, 0, 1]\n",
      "NWAgent 2: [0, 1, 2, 1, 2, 1]\n",
      "NWAgent 3: [0, 1, 2, 1, 0, 1]\n",
      "NWAgent 4: [0, 1, 0, 1, 2, 3]\n",
      "NWAgent 5: [0, 1, 2, 1, 0, 1]\n",
      "NWAgent 6: [0, 1, 2, 1, 2, 1]\n",
      "NWAgent 7: [0, 1, 0, 1, 2, 3]\n",
      "NWAgent 8: [0, 1, 0, 1, 0, 1]\n",
      "NWAgent 9: [0, 1, 0, 1, 2, 3]\n",
      "Counter({1: 27, 0: 21, 2: 9, 3: 3})\n"
     ]
    },
    {
     "data": {
      "image/png": "[encoded data removed]",
      "text/plain": [
       "<Figure size 432x288 with 1 Axes>"
      ]
     },
     "metadata": {},
     "output_type": "display_data"
    }
   ],
   "source": [
    "\n",
    "from collections import Counter\n",
    "import matplotlib.pyplot as plt\n",
    "import networkx as nx\n",
    "%matplotlib inline\n",
    "\n",
    "G = nx.path_graph(n=10)\n",
    "G.nodes[0]['name'] = 'start'\n",
    "G.nodes[9]['name'] = 'end'\n",
    "nx.draw_spectral(G=G, with_labels=True, node_color='green', node_size=1000, font_size=24)\n",
    "\n",
    "model = RandomWalkModel(G=G, n=10, start_node=0)\n",
    "model.step(n=5)\n",
    "\n",
    "total_visits = []\n",
    "for agent in model.agents:\n",
    "    \"\"\"Prints all visited nodes along path graph\"\"\"\n",
    "    print(f'NWAgent {agent.unique_id}: {agent.visited}')\n",
    "    total_visits.extend(agent.visited)\n",
    "\n",
    "total_visits_counter = Counter(total_visits)\n",
    "print(total_visits_counter)\n"
   ]
  },
  {
   "cell_type": "code",
   "execution_count": 19,
   "metadata": {},
   "outputs": [
    {
     "data": {
      "image/png": "[encoded data removed]",
      "text/plain": [
       "<Figure size 432x288 with 1 Axes>"
      ]
     },
     "metadata": {
      "needs_background": "light"
     },
     "output_type": "display_data"
    }
   ],
   "source": [
    "\n",
    "plt.hist(x=total_visits_counter.values(), bins=np.arange(10))\n",
    "plt.show()"
   ]
  },
  {
   "cell_type": "code",
   "execution_count": null,
   "metadata": {},
   "outputs": [],
   "source": []
  },
  {
   "cell_type": "code",
   "execution_count": null,
   "metadata": {},
   "outputs": [],
   "source": []
  },
  {
   "cell_type": "markdown",
   "metadata": {},
   "source": [
    "## Random Walk on Simple Graph"
   ]
  },
  {
   "cell_type": "code",
   "execution_count": null,
   "metadata": {},
   "outputs": [],
   "source": []
  },
  {
   "cell_type": "code",
   "execution_count": null,
   "metadata": {},
   "outputs": [],
   "source": []
  },
  {
   "cell_type": "code",
   "execution_count": null,
   "metadata": {},
   "outputs": [],
   "source": []
  },
  {
   "cell_type": "code",
   "execution_count": null,
   "metadata": {},
   "outputs": [],
   "source": []
  }
 ],
 "metadata": {
  "kernelspec": {
   "display_name": "Python 3",
   "language": "python",
   "name": "python3"
  },
  "language_info": {
   "codemirror_mode": {
    "name": "ipython",
    "version": 3
   },
   "file_extension": ".py",
   "mimetype": "text/x-python",
   "name": "python",
   "nbconvert_exporter": "python",
   "pygments_lexer": "ipython3",
   "version": "3.7.6"
  },
  "varInspector": {
   "cols": {
    "lenName": 16,
    "lenType": 16,
    "lenVar": 40
   },
   "kernels_config": {
    "python": {
     "delete_cmd_postfix": "",
     "delete_cmd_prefix": "del ",
     "library": "var_list.py",
     "varRefreshCmd": "print(var_dic_list())"
    },
    "r": {
     "delete_cmd_postfix": ") ",
     "delete_cmd_prefix": "rm(",
     "library": "var_list.r",
     "varRefreshCmd": "cat(var_dic_list()) "
    }
   },
   "types_to_exclude": [
    "module",
    "function",
    "builtin_function_or_method",
    "instance",
    "_Feature"
   ],
   "window_display": false
  }
 },
 "nbformat": 4,
 "nbformat_minor": 4
}

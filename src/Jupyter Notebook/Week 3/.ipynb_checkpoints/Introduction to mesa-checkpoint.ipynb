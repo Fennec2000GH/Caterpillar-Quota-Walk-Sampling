{
 "cells": [
  {
   "cell_type": "markdown",
   "metadata": {},
   "source": [
    "# Introduction to <i>mesa</i>"
   ]
  },
  {
   "cell_type": "markdown",
   "metadata": {},
   "source": [
    "<b>mesa</b> is a popular <i>agent-based modeling</i> module in Python. Below is the introductory tutorial recreated from the official documentation website: https://mesa.readthedocs.io/en/master/tutorials/intro_tutorial.html"
   ]
  },
  {
   "cell_type": "markdown",
   "metadata": {},
   "source": [
    "Scheduler <br>\n",
    "\n",
    "The elementary time unit used is a <i>tick</i>, analogous to <i>clock cycle</i> in a computer system. At each <i>tick</i>, one or more agents, often all, become active and individually move a step by changing internally, with one another, or with the environment.\n",
    "\n",
    "The scheduler is a model component that determines the order of agents being acivated. The scheduler may command all agents to take turns moving in the same order each time, shuffle the order each time, simultaneously move each time, or more.\n",
    "\n",
    "RandomActivation activates all the agents once perper step in random order. Every agent is expected to have a step method, which takes a model object as the sole argument. This determines the agent’s action upon activation. We add an agent to the schedule and then call the schedule’s step method. The scheduler shuffles the order of agents and activates them one-by-one."
   ]
  },
  {
   "cell_type": "markdown",
   "metadata": {},
   "source": [
    "## Agent, Model, and Scheduler"
   ]
  },
  {
   "cell_type": "code",
   "execution_count": 1,
   "metadata": {},
   "outputs": [],
   "source": [
    "\n",
    "from mesa import Agent, Model\n",
    "from mesa.time import RandomActivation\n",
    "\n",
    "class MoneyAgent(Agent):\n",
    "    \"\"\"An agent with fixed initial wealth.\"\"\"\n",
    "    def __init__(self, unique_id, model):\n",
    "        super().__init__(unique_id=unique_id, model=model)\n",
    "        self.wealth = 1\n",
    "    \n",
    "    def step(self):\n",
    "        if self.wealth == 0:\n",
    "            return\n",
    "        other_agent = self.random.choice(self.model.schedule.agents)\n",
    "        other_agent.wealth += 1\n",
    "        self.wealth -= 1\n",
    "        \n",
    "class MoneyModel(Model):\n",
    "    \"\"\"A model with some nubmer of agents.\"\"\"\n",
    "    def __init__(self, N):\n",
    "        self.num_agents = N\n",
    "        self.schedule = RandomActivation(self)\n",
    "        \n",
    "        #Create agents\n",
    "        for i in range(self.num_agents):\n",
    "            a = MoneyAgent(unique_id=i, model=self)\n",
    "            self.schedule.add(agent=a)\n",
    "    \n",
    "    def step(self):\n",
    "        '''Advance the model by one step.'''\n",
    "        self.schedule.step()\n",
    "            "
   ]
  },
  {
   "cell_type": "code",
   "execution_count": 5,
   "metadata": {},
   "outputs": [
    {
     "data": {
      "image/png": "[encoded data removed]",
      "text/plain": [
       "<Figure size 432x288 with 1 Axes>"
      ]
     },
     "metadata": {
      "needs_background": "light"
     },
     "output_type": "display_data"
    }
   ],
   "source": [
    "\n",
    "import matplotlib.pyplot as plt\n",
    "%matplotlib inline\n",
    "\n",
    "model = MoneyModel(N=10)\n",
    "for i in range(10):\n",
    "    model.step()\n",
    "    \n",
    "agent_wealth = [a.wealth for a in model.schedule.agents]\n",
    "plt.hist(x=agent_wealth)\n",
    "plt.title(label='Wealth Distribution after 10 Steps')\n",
    "plt.xlabel(xlabel='Wealth')\n",
    "plt.ylabel(ylabel='Number of Agents')\n",
    "ax = plt.gca()\n",
    "ax.set_facecolor(color='cyan')\n",
    "plt.show()\n"
   ]
  },
  {
   "cell_type": "code",
   "execution_count": 6,
   "metadata": {},
   "outputs": [
    {
     "data": {
      "image/png": "[encoded data removed]",
      "text/plain": [
       "<Figure size 432x288 with 1 Axes>"
      ]
     },
     "metadata": {
      "needs_background": "light"
     },
     "output_type": "display_data"
    }
   ],
   "source": [
    "\n",
    "import matplotlib.pyplot as plt\n",
    "%matplotlib inline\n",
    "\n",
    "# running multiple MoneyModels\n",
    "all_wealth = []\n",
    "for j in range(100):\n",
    "    # Running individual models sequencially\n",
    "    model = MoneyModel(N=10)\n",
    "    for i in range(10):\n",
    "        model.step()\n",
    "    \n",
    "    # keeping track of results for each model\n",
    "    all_wealth.append([agent.wealth for agent in model.schedule.agents])\n",
    "\n",
    "plt.hist(x=all_wealth, histtype='barstacked')\n",
    "plt.title(label='Wealth Distribution after 10 Steps (Aggregated Trials)')\n",
    "plt.xlabel(xlabel='Wealth')\n",
    "plt.ylabel(ylabel='Number of Agents')\n",
    "ax = plt.gca()\n",
    "ax.set_facecolor(color='pink')\n",
    "plt.show()\n"
   ]
  },
  {
   "cell_type": "markdown",
   "metadata": {},
   "source": [
    "# Grid"
   ]
  },
  {
   "cell_type": "markdown",
   "metadata": {},
   "source": [
    "There are two (2) types of grids holding fundamental units called cells. In <i>SingleGrid</i>, each cell may hold only one agent at most. In <i>MultuGrid</i>, each cell may hold muliple agents. For any grid, there is always the parameter <i>torus</i>, which enables an agent to wrap around to the other side if it veers off bounds of the grid."
   ]
  },
  {
   "cell_type": "code",
   "execution_count": 8,
   "metadata": {},
   "outputs": [
    {
     "ename": "IndentationError",
     "evalue": "unindent does not match any outer indentation level (<tokenize>, line 27)",
     "output_type": "error",
     "traceback": [
      "\u001b[0;36m  File \u001b[0;32m\"<tokenize>\"\u001b[0;36m, line \u001b[0;32m27\u001b[0m\n\u001b[0;31m    def step(self):\u001b[0m\n\u001b[0m    ^\u001b[0m\n\u001b[0;31mIndentationError\u001b[0m\u001b[0;31m:\u001b[0m unindent does not match any outer indentation level\n"
     ]
    }
   ],
   "source": [
    "\n",
    "from mesa import Agent, Model\n",
    "from mesa.time import RandomActivation\n",
    "from mesa.space import MultiGrid\n",
    "\n",
    "class MoneyAgent(Agent):\n",
    "    \"\"\"An agent with fixed initial wealth.\"\"\"\n",
    "    def __init__(self, unique_id, model):\n",
    "        super().__init__(unique_id=unique_id, model=model)\n",
    "        self.wealth = 1\n",
    "        \n",
    "    def move(self):\n",
    "        possible_steps = self.model.grid.get_neighborhood(\n",
    "            self.pos,\n",
    "            moore=True,\n",
    "            include_center=False\n",
    "        )\n",
    "        new_position = self.random.choice(self, new_position)\n",
    "        self.model.grid.move_agent(agent=self, pos=new_position)\n",
    "\n",
    "    def give_money(self):\n",
    "        cellmates = self.model.grid.get_cell_list_contents([self.pos])\n",
    "        if len(cellmates) > 1:\n",
    "            other = self.random.choice(cellmates)\n",
    "            other.wealth += 1\n",
    "            self.wealth -= 1\n",
    "    \n",
    "     def step(self):\n",
    "        self.move()\n",
    "        if self.wealth > 0:\n",
    "            self.give_money()\n",
    "    \n",
    "class MoneyModel(Model):\n",
    "    \"\"\"A model with some number of agents.\"\"\"\n",
    "    def __init__(self, N, width, height):\n",
    "        self.num_agents = N\n",
    "        self.grid = MultiGrid(width=width, height=height, torus=True)\n",
    "        self.schedule = RandomActivation(self)\n",
    "        \n",
    "        # generating agents\n",
    "        for i in range(10):\n",
    "            agent = MoneyAgent(unique_id=i, model=self)\n",
    "            self.schedule.add(agent=agent)\n",
    "            \n",
    "            # add agent to random grid cell\n",
    "            x = self.random.randrange(self.grid.width)\n",
    "            y = self.random.randrange(self.grid.height)\n",
    "            self.grid.place_agent(agent=agent, pos=(x, y))\n",
    "            "
   ]
  },
  {
   "cell_type": "code",
   "execution_count": null,
   "metadata": {},
   "outputs": [],
   "source": [
    "\n",
    "import matplotlib.pyplot as plt\n",
    "import numpy as np\n",
    "%matplotlib inline\n",
    "\n",
    "model = MoneyModel(50, 10, 10)\n",
    "for i in range(20):\n",
    "    model.step()\n",
    "\n",
    "agent_counts = np.zeros((model.grid.width, model.grid.height))\n",
    "for cell in model.grid.coord_iter():\n",
    "    cell_content, x, y = cell\n",
    "    agent_count = len(cell_content)\n",
    "    agent_counts[x][y] = agent_count\n",
    "plt.imshow(agent_counts, interpolation='nearest')\n",
    "plt.colorbar()\n",
    "plt.show()\n"
   ]
  },
  {
   "cell_type": "code",
   "execution_count": null,
   "metadata": {},
   "outputs": [],
   "source": []
  }
 ],
 "metadata": {
  "kernelspec": {
   "display_name": "Python 3",
   "language": "python",
   "name": "python3"
  },
  "language_info": {
   "codemirror_mode": {
    "name": "ipython",
    "version": 3
   },
   "file_extension": ".py",
   "mimetype": "text/x-python",
   "name": "python",
   "nbconvert_exporter": "python",
   "pygments_lexer": "ipython3",
   "version": "3.7.6"
  },
  "varInspector": {
   "cols": {
    "lenName": 16,
    "lenType": 16,
    "lenVar": 40
   },
   "kernels_config": {
    "python": {
     "delete_cmd_postfix": "",
     "delete_cmd_prefix": "del ",
     "library": "var_list.py",
     "varRefreshCmd": "print(var_dic_list())"
    },
    "r": {
     "delete_cmd_postfix": ") ",
     "delete_cmd_prefix": "rm(",
     "library": "var_list.r",
     "varRefreshCmd": "cat(var_dic_list()) "
    }
   },
   "types_to_exclude": [
    "module",
    "function",
    "builtin_function_or_method",
    "instance",
    "_Feature"
   ],
   "window_display": false
  }
 },
 "nbformat": 4,
 "nbformat_minor": 4
}

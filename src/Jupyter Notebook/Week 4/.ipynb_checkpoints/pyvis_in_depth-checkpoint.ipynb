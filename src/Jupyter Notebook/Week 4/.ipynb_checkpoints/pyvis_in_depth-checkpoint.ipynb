{
 "cells": [
  {
   "cell_type": "markdown",
   "metadata": {},
   "source": [
    "# pyvis in Depth"
   ]
  },
  {
   "cell_type": "markdown",
   "metadata": {},
   "source": [
    "class pyvis.network.Network(height=’500px’, width=’500px’, directed=False, notebook=False, bgcolor=’#ffffff’, font_color=False, layout=None)<br><br>\n",
    "The Network class is the focus of this library. All viz functionality should be implemented off of a Network instance."
   ]
  },
  {
   "cell_type": "markdown",
   "metadata": {},
   "source": [
    "add_node(n_id, label=None, shape=’dot’, **options)<br><br>\n",
    "\n",
    "This method adds a node to the network, given a mandatory node ID. Node labels default to node ids if no label is specified during the call.<br><br>\n",
    "\n",
    "Parameters<br><br>\n",
    "• n_id (str or int) – The id of the node. The id is mandatory for nodes and they have to be unique. This should obviously be set per node, not globally.<br><br>\n",
    "• label (str or int) – The label is the piece of text shown in or under the node, depending on the shape.<br><br>\n",
    "• borderWidth (num (optional)) – The width of the border of the node.<br><br>\n",
    "• borderWidthSelected (num (optional)) – The width of the border of the node\n",
    "when it is selected. When undefined, the borderWidth * 2 is used.<br><br>\n",
    "• brokenImage(str (optional))–WhentheshapeissettoimageorcircularImage, this option can be an URL to a backup image in case the URL supplied in the image option cannot be resolved.<br><br>\n",
    "• group (str (optional)) – When not undefined, the node will belong to the defined group.\n",
    "Styling information of that group will apply to this node. Node specific styling overrides group styling.<br><br>\n",
    "• hidden (bool (optional)) – When true, the node will not be shown. It will still be part of the physics simulation though!<br><br>\n",
    "• image (str (optional)) – When the shape is set to image or circularImage, this option should be the URL to an image. If the image cannot be found, the brokenImage option can be used.<br><br>\n",
    "• labelHighlightBold(bool (optional))–Determines whether or not the label becomes bold when the node is selected.<br><br>\n",
    "• level (num (optional)) – When using the hierarchical layout, the level determines where the node is going to be positioned.<br><br>\n",
    "• mass (num (optional)) – The barnesHut physics model (which is enabled by de- fault) is based on an inverted gravity model. By increasing the mass of a node, you increase it’s repulsion. Values lower than 1 are not recommended.<br><br>\n",
    "• physics (bool (optional)) – When false, the node is not part of the physics sim- ulation. It will not move except for from manual dragging.<br><br>\n",
    "• shape (str (optional)) – The shape defines what the node looks like. There are two types of nodes. One type has the label inside of it and the other type has the label underneath it. The types with the label inside of it are: ellipse, circle, database, box, text. The ones with the label outside of it are: image, circularImage, diamond, dot, star, triangle, triangleDown, square and icon.<br><br>\n",
    "• size (num (optional)) – The size is used to determine the size of node shapes that do not have the label inside of them. These shapes are: image, circularImage, diamond, dot, star, triangle, triangleDown, square and icon.<br><br>\n",
    "• title (str or html element (optional)) – Title to be displayed when the user hovers over the node. The title can be an HTML element or a string containing plain text or HTML.\n",
    "• value (num (optional)) – When a value is set, the nodes will be scaled using the options in the scaling object defined above.<br><br>\n",
    "• x (num (optional)) – This gives a node an initial x position. When using the hi- erarchical layout, either the x or y position is set by the layout engine depending on the type of view. The other value remains untouched. When using stabilization, the stabilized position may be different from the initial one. To lock the node to that position use the physics or fixed options.<br><br>\n",
    "• y (num (optional)) – This gives a node an initial y position. When using the hierar- chical layout,either the x or y position is set by the layout engine depending on the type of view. The other value remains untouched. When using stabilization, the stabilized posi- tion may be different from the initial one. To lock the node to that position use the physics or fixed options."
   ]
  },
  {
   "cell_type": "code",
   "execution_count": 1,
   "metadata": {},
   "outputs": [
    {
     "data": {
      "text/html": [
       "\n",
       "        <iframe\n",
       "            width=\"600\"\n",
       "            height=\"600\"\n",
       "            src=\"nt.html\"\n",
       "            frameborder=\"0\"\n",
       "            allowfullscreen\n",
       "        ></iframe>\n",
       "        "
      ],
      "text/plain": [
       "<IPython.lib.display.IFrame at 0x7fdfcae882d0>"
      ]
     },
     "execution_count": 1,
     "metadata": {},
     "output_type": "execute_result"
    }
   ],
   "source": [
    "\n",
    "import networkx as nx\n",
    "from pyvis.network import Network\n",
    "\n",
    "nt = Network(width=600,\n",
    "             height=600,\n",
    "             directed=False,\n",
    "             notebook=True,\n",
    "             bgcolor='pink',\n",
    "             font_color='blue',\n",
    "             layout=None)\n",
    "\n",
    "nt.add_node(n_id=0, color='orange', mass=1, physics=True, size=20, shape='square', title='First', x=0, y=0)\n",
    "nt.add_node(n_id=1, color='yellow', mass=2, physics=True, size=30, shape='triangle', title='Second', x=0, y=10)\n",
    "nt.show(name='nt.html')\n"
   ]
  },
  {
   "cell_type": "markdown",
   "metadata": {},
   "source": [
    "add_nodes(nodes, **kwargs)<br><br>\n",
    "This method adds multiple nodes to the network from a list. Default behavior uses values of ‘nodes’ for node ID and node label properties. You can also specify other lists of properties to go along each node."
   ]
  },
  {
   "cell_type": "code",
   "execution_count": 2,
   "metadata": {},
   "outputs": [
    {
     "data": {
      "text/html": [
       "\n",
       "        <iframe\n",
       "            width=\"600\"\n",
       "            height=\"600\"\n",
       "            src=\"nt.html\"\n",
       "            frameborder=\"0\"\n",
       "            allowfullscreen\n",
       "        ></iframe>\n",
       "        "
      ],
      "text/plain": [
       "<IPython.lib.display.IFrame at 0x7fdfc9b47390>"
      ]
     },
     "execution_count": 2,
     "metadata": {},
     "output_type": "execute_result"
    }
   ],
   "source": [
    "\n",
    "from pyvis.network import Network\n",
    "from pyvis.node import Node\n",
    "import networkx as nx\n",
    "\n",
    "nt.add_nodes(nodes=['Apple', 'Banana', 'Cherry'],\n",
    "             color=['red', 'yellow', 'red'],\n",
    "             size=[40] * 3,\n",
    "             title=['A', 'B', 'C'])\n",
    "\n",
    "nt.show(name='nt.html')\n"
   ]
  },
  {
   "cell_type": "markdown",
   "metadata": {},
   "source": [
    "add_edge(source, to, **options)<br><br>\n",
    "\n",
    "Adding edges is done based off of the IDs of the nodes. Order does not matter unless dealing with a directed graph.<br><br>\n",
    "\n",
    "Parameters<br>\n",
    "• arrowStrikethrough (bool) – When false, the edge stops at the arrow. This can be useful if you have thick lines and you want the arrow to end in a point. Middle arrows are not affected by this.<br>\n",
    "• from (str or num) – Edges are between two nodes, one to and one from. This is where you define the from node. You have to supply the corresponding node ID. This naturally only applies to individual edges.<br>\n",
    "• hidden (bool) – When true, the edge is not drawn. It is part still part of the physics simulation however!<br>\n",
    "• physics (bool) – When true, the edge is part of the physics simulation. When false, it will not act as a spring.<br>\n",
    "• title (str) – The title is shown in a pop-up when the mouse moves over the edge.<br>\n",
    "• to (str or num) – Edges are between two nodes, one to and one from. This is where you define the to node. You have to supply the corresponding node ID. This naturally only applies to individual edges.<br>\n",
    "• value (num) – When a value is set, the edges’ width will be scaled using the options in the scaling object defined above.<br>\n",
    "• width (num) – The width of the edge. If value is set, this is not used."
   ]
  },
  {
   "cell_type": "code",
   "execution_count": 3,
   "metadata": {},
   "outputs": [
    {
     "data": {
      "text/html": [
       "\n",
       "        <iframe\n",
       "            width=\"600\"\n",
       "            height=\"600\"\n",
       "            src=\"nt.html\"\n",
       "            frameborder=\"0\"\n",
       "            allowfullscreen\n",
       "        ></iframe>\n",
       "        "
      ],
      "text/plain": [
       "<IPython.lib.display.IFrame at 0x7fdfca064cd0>"
      ]
     },
     "execution_count": 3,
     "metadata": {},
     "output_type": "execute_result"
    }
   ],
   "source": [
    "\n",
    "import networkx as nx\n",
    "from pyvis.network import Network\n",
    "\n",
    "\n",
    "nt.add_edge(source=0, to=1, color='#ff99ff', physics=True, title='Edge', value=5)\n",
    "nt.show(name='nt.html')\n"
   ]
  },
  {
   "cell_type": "markdown",
   "metadata": {},
   "source": [
    "add_edges(edges)<br><br>\n",
    "This method serves to add multiple edges between existing nodes in the network instance. Adding of the edges is done based off of the IDs of the nodes. Order does not matter unless dealing with a directed graph.<br><br>\n",
    "Parameters<br>\n",
    "edges – A list of tuples, each tuple consists of source of edge, edge destination and and optional width."
   ]
  },
  {
   "cell_type": "code",
   "execution_count": 5,
   "metadata": {},
   "outputs": [
    {
     "data": {
      "text/html": [
       "\n",
       "        <iframe\n",
       "            width=\"600\"\n",
       "            height=\"600\"\n",
       "            src=\"nt.html\"\n",
       "            frameborder=\"0\"\n",
       "            allowfullscreen\n",
       "        ></iframe>\n",
       "        "
      ],
      "text/plain": [
       "<IPython.lib.display.IFrame at 0x7fdfcaef5fd0>"
      ]
     },
     "execution_count": 5,
     "metadata": {},
     "output_type": "execute_result"
    }
   ],
   "source": [
    "\n",
    "import networkx as nx\n",
    "from pyvis.network import Network\n",
    "\n",
    "nt.add_node(n_id='Shrek', borderWidthSelected=10, label='Ogre', labelHighlightBold = True, mass=60, physics=True, shape='diamond', x=10, y=0) \n",
    "nt.add_node(n_id='Donkey', borderWidthSelected=10, label='Donkey', labelHighlightBold = True, mass=40, physics=True, shape='diamond', x=10, y=10)\n",
    "nt.add_node(n_id='Puss in Boots', borderWidthSelected=10, label='Cat', labelHighlightBold = True, mass=20, physics=True, shape='diamond', x=10, y=20)\n",
    "nt.add_edges(edges=[('Apple', 'Banana'), ('Banana', 'Cherry'), ('Cherry', 'Shrek'), ('Shrek', 'Donkey'), ('Donkey', 'Puss in Boots')])\n",
    "nt.show(name='nt.html')\n"
   ]
  },
  {
   "cell_type": "markdown",
   "metadata": {},
   "source": [
    "barnes_hut(gravity=-80000, central_gravity=0.3, spring_length=250, spring_strength=0.001,\n",
    "damping=0.09, overlap=0)<br><br>\n",
    "BarnesHut is a quadtree based gravity model. It is the fastest. default and recommended solver for non-\n",
    "heirarchical layouts.<br><br>\n",
    "Parameters<br><br>\n",
    "• gravity (int) – The more negative the gravity value is, the stronger the repulsion is.<br><br>\n",
    "• central_gravity (float) – The gravity attractor to pull the entire network to the\n",
    "center.<br><br>\n",
    "• spring_length (int) – The rest length of the edges<br><br>\n",
    "• spring_strength (float) – The strong the edges springs are<br><br>\n",
    "• damping (float) – A value ranging from 0 to 1 of how much of the velocity from the\n",
    "previous physics simulation iteration carries over to the next iteration.<br><br>\n",
    "• overlap (float) – When larger than 0, the size of the node is taken into account. The distance will be calculated from the radius of the encompassing circle of the node for both the gravity model. Value 1 is maximum overlap avoidance."
   ]
  },
  {
   "cell_type": "code",
   "execution_count": 27,
   "metadata": {},
   "outputs": [
    {
     "name": "stdout",
     "output_type": "stream",
     "text": [
      "<bound method Network.barnes_hut of <class 'pyvis.network.Network'> |N|=8 |E|=6>\n"
     ]
    },
    {
     "data": {
      "text/html": [
       "\n",
       "        <iframe\n",
       "            width=\"600\"\n",
       "            height=\"600\"\n",
       "            src=\"nt.html\"\n",
       "            frameborder=\"0\"\n",
       "            allowfullscreen\n",
       "        ></iframe>\n",
       "        "
      ],
      "text/plain": [
       "<IPython.lib.display.IFrame at 0x7fdfcb1774d0>"
      ]
     },
     "execution_count": 27,
     "metadata": {},
     "output_type": "execute_result"
    }
   ],
   "source": [
    "\n",
    "import networkx as nx\n",
    "from pyvis.network import Network\n",
    "\n",
    "print(nt.barnes_hut)\n",
    "# nt.barnes_hut(gravity=1000,\n",
    "#               central_gravity=0.6,\n",
    "#               spring_length=360,\n",
    "#               spring_strength=0.1,\n",
    "#               damping=0.12,\n",
    "#               overlap=0.1)\n",
    "\n",
    "nt.show(name='nt.html')\n"
   ]
  },
  {
   "cell_type": "markdown",
   "metadata": {},
   "source": [
    "force_atlas_2based(gravity=-50, central_gravity=0.01, spring_length=100, spring_strength=0.08, damping=0.4, overlap=0)<br><br>\n",
    "The forceAtlas2Based solver makes use of some of the equations provided by them and makes use of the barnesHut implementation in vis. The main differences are the central gravity model, which is here distance independent, and the repulsion being linear instead of quadratic. Finally, all node masses have a multiplier based on the amount of connected edges plus one.<br><br>\n",
    "Parameters<br><br>\n",
    "• gravity (int) – The more negative the gravity value is, the stronger the repulsion is.<br><br>\n",
    "• central_gravity (float) – The gravity attractor to pull the entire network to the\n",
    "center.<br><br>\n",
    "• spring_length (int) – The rest length of the edges<br><br>\n",
    "• spring_strength (float) – The strong the edges springs are<br><br>\n",
    "• damping (float) – A value ranging from 0 to 1 of how much of the velocity from the previous physics simulation iteration carries over to the next iteration.<br><br>\n",
    "• overlap (float) – When larger than 0, the size of the node is taken into account. The distance will be calculated from the radius of the encompassing circle of the node for both the gravity model. Value 1 is maximum overlap avoidance."
   ]
  },
  {
   "cell_type": "markdown",
   "metadata": {},
   "source": [
    "from_DOT(dot)<br><br>\n",
    "This method takes the contents of .DOT file and converts it to a PyVis visualization.\n",
    "Assuming the contents of test.dot contains: digraph sample3 { A -> {B ; C ; D} C -> {B ; A}}"
   ]
  },
  {
   "cell_type": "code",
   "execution_count": 45,
   "metadata": {},
   "outputs": [
    {
     "data": {
      "text/html": [
       "\n",
       "        <iframe\n",
       "            width=\"600\"\n",
       "            height=\"600\"\n",
       "            src=\"nt.html\"\n",
       "            frameborder=\"0\"\n",
       "            allowfullscreen\n",
       "        ></iframe>\n",
       "        "
      ],
      "text/plain": [
       "<IPython.lib.display.IFrame at 0x7fdfcb374b10>"
      ]
     },
     "execution_count": 45,
     "metadata": {},
     "output_type": "execute_result"
    }
   ],
   "source": [
    "\n",
    "import networkx as nx\n",
    "from networkx.drawing.nx_pydot import write_dot\n",
    "from pyvis.network import Network\n",
    "\n",
    "G = nx.path_graph(n=10)\n",
    "write_dot(G=G, path='path_graph.DOT')\n",
    "nt = Network(width=600, height=600, directed=False, notebook=True)\n",
    "nt.from_DOT(dot='path_graph.dot')\n",
    "nt.show(name='nt.html')\n"
   ]
  },
  {
   "cell_type": "markdown",
   "metadata": {},
   "source": [
    "from_nx(nx_graph, node_size_transf=<function <lambda>>, edge_weight_transf=<function><lambda>>, default_node_size=10, default_edge_weight=1)<br><br>\n",
    "This method takes an exisitng Networkx graph and translates it to a PyVis graph format that can be accepted by the VisJs API in the Jinja2 template. This operation is done in place.<br><br>\n",
    "Parameters<br><br>\n",
    "\n",
    "• nx_graph (networkx.Graph instance) – The Networkx graph object that is to be translated.<br><br>\n",
    "• node_size_transf (func) – function to transform the node size for plotting<br><br>\n",
    "• edge_weight_transf (func) – function to transform the edge weight for plotting<br><br>\n",
    "• default_node_size – default node size if not specified default_edge_weight – default edge weight if not specified"
   ]
  },
  {
   "cell_type": "code",
   "execution_count": 55,
   "metadata": {},
   "outputs": [
    {
     "data": {
      "text/html": [
       "\n",
       "        <iframe\n",
       "            width=\"600\"\n",
       "            height=\"600\"\n",
       "            src=\"nt.html\"\n",
       "            frameborder=\"0\"\n",
       "            allowfullscreen\n",
       "        ></iframe>\n",
       "        "
      ],
      "text/plain": [
       "<IPython.lib.display.IFrame at 0x7fdfcaf942d0>"
      ]
     },
     "execution_count": 55,
     "metadata": {},
     "output_type": "execute_result"
    }
   ],
   "source": [
    "\n",
    "import networkx as nx\n",
    "from pyvis.network import Network\n",
    "\n",
    "G = nx.lollipop_graph(m=10, n=4)\n",
    "nt = Network(width=600, height=600, directed=True, notebook=True)\n",
    "nt.from_nx(nx_graph=G)\n",
    "nt.show(name='nt.html')\n"
   ]
  },
  {
   "cell_type": "markdown",
   "metadata": {},
   "source": [
    "repulsion(node_distance=100, central_gravity=0.2, spring_length=200, spring_strength=0.05,\n",
    "damping=0.09)<br><br>\n",
    "Set the physics attribute of the entire network to repulsion. When called, it sets the solver attribute of physics to repulsion.<br><br>\n",
    "\n",
    "Parameters<br><br>\n",
    "• node_distance (int) – This is the range of influence for the repulsion.<br><br>\n",
    "• central_gravity – The gravity attractor to pull the entire network to the center.<br><br>\n",
    "• spring_length – The rest length of the edges<br><br>\n",
    "• spring_strength – The strong the edges springs are<br><br>\n",
    "• damping – A value ranging from 0 to 1 of how much of the velocity from the previous physics simulation iteration carries over to the next iteration.\n",
    ":type central_gravity float :type spring_length: int :type spring_strength: float :type damping: float\n"
   ]
  },
  {
   "cell_type": "code",
   "execution_count": 66,
   "metadata": {},
   "outputs": [
    {
     "data": {
      "text/html": [
       "\n",
       "        <iframe\n",
       "            width=\"600\"\n",
       "            height=\"600\"\n",
       "            src=\"nt.html\"\n",
       "            frameborder=\"0\"\n",
       "            allowfullscreen\n",
       "        ></iframe>\n",
       "        "
      ],
      "text/plain": [
       "<IPython.lib.display.IFrame at 0x7fdfcb178310>"
      ]
     },
     "execution_count": 66,
     "metadata": {},
     "output_type": "execute_result"
    }
   ],
   "source": [
    "\n",
    "import networkx as nx\n",
    "from pyvis.network import Network\n",
    "\n",
    "nt = Network(width=600, height=600, directed=False, notebook=True)\n",
    "G = nx.dodecahedral_graph()\n",
    "nt.from_nx(nx_graph=G)\n",
    "nt.repulsion(node_distance=10, central_gravity=0.0, spring_length=200, spring_strength=0.1, damping=0.1)\n",
    "nt.show(name='nt.html')\n"
   ]
  },
  {
   "cell_type": "markdown",
   "metadata": {},
   "source": [
    "save_graph(name)<br><br>\n",
    "Save the graph as html in the current directory with name.<br><br>\n",
    "Parameters<br><br>\n",
    "name (str) – the name of the html file to save as"
   ]
  },
  {
   "cell_type": "code",
   "execution_count": 72,
   "metadata": {},
   "outputs": [
    {
     "data": {
      "text/html": [
       "\n",
       "        <iframe\n",
       "            width=\"600\"\n",
       "            height=\"600\"\n",
       "            src=\"nt.html\"\n",
       "            frameborder=\"0\"\n",
       "            allowfullscreen\n",
       "        ></iframe>\n",
       "        "
      ],
      "text/plain": [
       "<IPython.lib.display.IFrame at 0x7fdfcb232d50>"
      ]
     },
     "execution_count": 72,
     "metadata": {},
     "output_type": "execute_result"
    }
   ],
   "source": [
    "\n",
    "import networkx as nx\n",
    "from pyvis.network import Network\n",
    "\n",
    "nt = Network(width=600,\n",
    "             height=600,\n",
    "             directed=False,\n",
    "             notebook=True,\n",
    "             bgcolor='blue',\n",
    "             font_color='green')\n",
    "\n",
    "G = nx.wheel_graph(n=6)\n",
    "nt.from_nx(nx_graph=G)\n",
    "nt.save_graph(name='nt.html')\n",
    "nt.show(name='nt.html')\n"
   ]
  },
  {
   "cell_type": "markdown",
   "metadata": {},
   "source": [
    "set_edge_smooth(smooth_type)<br><br>\n",
    "Sets the smooth.type attribute of the edges.<br><br>\n",
    "\n",
    "Parameters<br><br>\n",
    "\n",
    "smooth_type (string) – Possible options: ‘dynamic’, ‘continuous’, ‘dis- crete’, ‘diagonalCross’, ‘straightCross’, ‘horizontal’, ‘vertical’, ‘curvedCW’, ‘curvedCCW’,"
   ]
  },
  {
   "cell_type": "code",
   "execution_count": 88,
   "metadata": {},
   "outputs": [],
   "source": [
    "\n",
    "import networkx as nx\n",
    "from pyvis.network import Network\n",
    "\n",
    "G = nx.star_graph(n=12)\n",
    "nt = Network(width=600, height=600, directed=False, notebook=True)\n",
    "nt.from_nx(nx_graph=G)\n",
    "smooth_type_list = ['dynamic', 'continuous', 'discrete', 'diagonalCross', 'straightCross', 'horizontal', 'vertical', 'curvedCW', 'curvedCCW']\n",
    "for smooth_type in smooth_type_list:\n",
    "    \"\"\"Show Network with each type of smooth edge\"\"\"\n",
    "    nt.set_edge_smooth(smooth_type=smooth_type)\n",
    "    nt.show(name=f'nt_{smooth_type}.html')\n"
   ]
  },
  {
   "cell_type": "markdown",
   "metadata": {},
   "source": [
    "show(name)<br><br>\n",
    "Writes a static HTML file and saves it locally before opening.<br><br>\n",
    "Param name: the name of the html file to save as"
   ]
  },
  {
   "cell_type": "code",
   "execution_count": 94,
   "metadata": {},
   "outputs": [
    {
     "data": {
      "text/html": [
       "\n",
       "        <iframe\n",
       "            width=\"600\"\n",
       "            height=\"600\"\n",
       "            src=\"nt.html\"\n",
       "            frameborder=\"0\"\n",
       "            allowfullscreen\n",
       "        ></iframe>\n",
       "        "
      ],
      "text/plain": [
       "<IPython.lib.display.IFrame at 0x7fdfcb1bcd10>"
      ]
     },
     "execution_count": 94,
     "metadata": {},
     "output_type": "execute_result"
    }
   ],
   "source": [
    "\n",
    "import networkx as nx\n",
    "import numpy as np\n",
    "from pyvis.network import Network\n",
    "\n",
    "G = nx.cycle_graph(n=10)\n",
    "color_choices = ['red', 'green', 'yellow', 'blue', 'cyan', 'magenta', 'black']\n",
    "for n in range(10):\n",
    "    G.nodes[n]['color'] = np.random.choice(a=color_choices, replace=False)\n",
    "    \n",
    "nt = Network(width=600, height=600, directed=False, notebook=True)\n",
    "nt.from_nx(nx_graph=G)\n",
    "nt.show(name='nt.html')\n"
   ]
  },
  {
   "cell_type": "markdown",
   "metadata": {},
   "source": [
    "show_buttons(filter_=None)<br><br>\n",
    "Displays or hides certain widgets to dynamically modify the network. Usage: >>> g.show_buttons(filter_=[‘nodes’, ‘edges’, ‘physics’])<br>\n",
    "Or to show all options: >>> g.show_buttons()<br><br>\n",
    "\n",
    "Parameters<br><br>\n",
    "• status (bool) – When set to True, the widgets will be shown. Default is set to False.<br><br>\n",
    "• filter (bool or list:) – Only include widgets specified by filter_. Valid options:\n",
    "True (gives all widgets)\n",
    "List of nodes, edges, layout, interaction, manipulation, physics, selection, renderer."
   ]
  },
  {
   "cell_type": "code",
   "execution_count": 104,
   "metadata": {},
   "outputs": [
    {
     "data": {
      "text/html": [
       "\n",
       "        <iframe\n",
       "            width=\"600\"\n",
       "            height=\"600\"\n",
       "            src=\"nt.html\"\n",
       "            frameborder=\"0\"\n",
       "            allowfullscreen\n",
       "        ></iframe>\n",
       "        "
      ],
      "text/plain": [
       "<IPython.lib.display.IFrame at 0x7fdfcc344450>"
      ]
     },
     "execution_count": 104,
     "metadata": {},
     "output_type": "execute_result"
    },
    {
     "data": {
      "image/png": "[encoded data removed]",
      "text/plain": [
       "<Figure size 432x288 with 1 Axes>"
      ]
     },
     "metadata": {},
     "output_type": "display_data"
    }
   ],
   "source": [
    "\n",
    "\n",
    "import networkx as nx\n",
    "from pyvis.network import Network\n",
    "\n",
    "G = nx.complete_bipartite_graph(n1=12, n2=4)\n",
    "nx.draw(G=G, layout=nx.bipartite_layout)\n",
    "nt = Network(width=600, height=600, directed=False, notebook=True)\n",
    "nt.from_nx(nx_graph=G)\n",
    "nt.show_buttons(filter_=['nodes', 'edges', 'physics'])\n",
    "nt.show(name='nt.html')\n"
   ]
  },
  {
   "cell_type": "markdown",
   "metadata": {},
   "source": [
    "write_html(name, notebook=False)<br><br>\n",
    "This method gets the data structures supporting the nodes, edges, and options and updates the template to write the HTML holding the visualization."
   ]
  },
  {
   "cell_type": "code",
   "execution_count": 106,
   "metadata": {},
   "outputs": [
    {
     "data": {
      "text/html": [
       "\n",
       "        <iframe\n",
       "            width=\"600\"\n",
       "            height=\"600\"\n",
       "            src=\"nt.html\"\n",
       "            frameborder=\"0\"\n",
       "            allowfullscreen\n",
       "        ></iframe>\n",
       "        "
      ],
      "text/plain": [
       "<IPython.lib.display.IFrame at 0x7fdfcbf95790>"
      ]
     },
     "execution_count": 106,
     "metadata": {},
     "output_type": "execute_result"
    }
   ],
   "source": [
    "\n",
    "\n",
    "import networkx as nx\n",
    "from pyvis.network import Network\n",
    "\n",
    "G = nx.complete_graph(n=24)\n",
    "\n",
    "nt = Network(width=600, height=600, directed=False, notebook=True)\n",
    "nt.from_nx(nx_graph=G)\n",
    "nt.write_html(name='nt.html', notebook=True)\n"
   ]
  },
  {
   "cell_type": "code",
   "execution_count": null,
   "metadata": {},
   "outputs": [],
   "source": []
  }
 ],
 "metadata": {
  "kernelspec": {
   "display_name": "Python 3",
   "language": "python",
   "name": "python3"
  },
  "language_info": {
   "codemirror_mode": {
    "name": "ipython",
    "version": 3
   },
   "file_extension": ".py",
   "mimetype": "text/x-python",
   "name": "python",
   "nbconvert_exporter": "python",
   "pygments_lexer": "ipython3",
   "version": "3.7.6"
  },
  "varInspector": {
   "cols": {
    "lenName": 16,
    "lenType": 16,
    "lenVar": 40
   },
   "kernels_config": {
    "python": {
     "delete_cmd_postfix": "",
     "delete_cmd_prefix": "del ",
     "library": "var_list.py",
     "varRefreshCmd": "print(var_dic_list())"
    },
    "r": {
     "delete_cmd_postfix": ") ",
     "delete_cmd_prefix": "rm(",
     "library": "var_list.r",
     "varRefreshCmd": "cat(var_dic_list()) "
    }
   },
   "types_to_exclude": [
    "module",
    "function",
    "builtin_function_or_method",
    "instance",
    "_Feature"
   ],
   "window_display": false
  }
 },
 "nbformat": 4,
 "nbformat_minor": 4
}

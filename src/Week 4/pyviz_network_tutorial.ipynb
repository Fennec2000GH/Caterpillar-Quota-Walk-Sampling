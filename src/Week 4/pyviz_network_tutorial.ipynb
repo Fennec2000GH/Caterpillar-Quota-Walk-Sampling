{
 "cells": [
  {
   "cell_type": "markdown",
   "metadata": {},
   "source": [
    "# pyviz Network Tutorial"
   ]
  },
  {
   "cell_type": "markdown",
   "metadata": {},
   "source": [
    "https://pyvis.readthedocs.io/en/latest/tutorial.html"
   ]
  },
  {
   "cell_type": "markdown",
   "metadata": {},
   "source": [
    "Add nodes to the network"
   ]
  },
  {
   "cell_type": "code",
   "execution_count": 11,
   "metadata": {},
   "outputs": [],
   "source": [
    "\n",
    "import networkx as nx\n",
    "from pyvis.network import Network\n",
    "\n",
    "net = Network()\n",
    "net.add_node(n_id=1, label=1) # node id = 1 and label = Node 1\n",
    "net.add_node(n_id=2, label=2) # node id and label = 2\n",
    "\n",
    "nodes = ['a', 'b', 'c', 'd']\n",
    "net.add_nodes(nodes=nodes) # node ids and labels = [\"a\", \"b\", \"c\", \"d\"]\n",
    "net.add_nodes(nodes='hello') # node ids and labels = [\"h\", \"e\", \"l\", \"l\", \"o\"]\n"
   ]
  },
  {
   "cell_type": "markdown",
   "metadata": {},
   "source": [
    "Node properties"
   ]
  },
  {
   "cell_type": "markdown",
   "metadata": {},
   "source": [
    "A call to add_node() supports various node properties that can be set individually. All of these properties can be found here, courtesy of VisJS. For the direct Python translation of these attributes, reference the network.Network.add_node() docs."
   ]
  },
  {
   "cell_type": "markdown",
   "metadata": {},
   "source": [
    "Adding list of nodes with properties"
   ]
  },
  {
   "cell_type": "code",
   "execution_count": 15,
   "metadata": {},
   "outputs": [],
   "source": [
    "\n",
    "from IPython.display import IFrame\n",
    "from IPython.core.display import HTML\n",
    "\n",
    "net.add_nodes(nodes=[1, 2, 3],\n",
    "              value=[10, 100, 400],\n",
    "              title=[\"I am node 1\", \"node 2 here\", \"and im node 3\"],\n",
    "              x=[21.4, 54.2, 11.2], y=[100.2, 23.54, 32.1],\n",
    "              label=[\"NODE 1\", \"NODE 2\", \"NODE 3\"],\n",
    "              color=[\"#00ff1e\", \"#162347\", \"#dd4b39\"])\n",
    "\n",
    "net.show(name='net.html')\n"
   ]
  },
  {
   "cell_type": "code",
   "execution_count": null,
   "metadata": {},
   "outputs": [],
   "source": []
  }
 ],
 "metadata": {
  "kernelspec": {
   "display_name": "Python 3",
   "language": "python",
   "name": "python3"
  },
  "language_info": {
   "codemirror_mode": {
    "name": "ipython",
    "version": 3
   },
   "file_extension": ".py",
   "mimetype": "text/x-python",
   "name": "python",
   "nbconvert_exporter": "python",
   "pygments_lexer": "ipython3",
   "version": "3.7.6"
  },
  "varInspector": {
   "cols": {
    "lenName": 16,
    "lenType": 16,
    "lenVar": 40
   },
   "kernels_config": {
    "python": {
     "delete_cmd_postfix": "",
     "delete_cmd_prefix": "del ",
     "library": "var_list.py",
     "varRefreshCmd": "print(var_dic_list())"
    },
    "r": {
     "delete_cmd_postfix": ") ",
     "delete_cmd_prefix": "rm(",
     "library": "var_list.r",
     "varRefreshCmd": "cat(var_dic_list()) "
    }
   },
   "types_to_exclude": [
    "module",
    "function",
    "builtin_function_or_method",
    "instance",
    "_Feature"
   ],
   "window_display": false
  }
 },
 "nbformat": 4,
 "nbformat_minor": 4
}

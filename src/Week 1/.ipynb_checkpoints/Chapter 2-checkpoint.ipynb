{
 "cells": [
  {
   "cell_type": "markdown",
   "metadata": {},
   "source": [
    "# CHAPTER 2: Graph Types"
   ]
  },
  {
   "cell_type": "markdown",
   "metadata": {},
   "source": [
    "## Graph.class"
   ]
  },
  {
   "cell_type": "code",
   "execution_count": 1,
   "metadata": {
    "pycharm": {
     "name": "#%%\n"
    }
   },
   "outputs": [],
   "source": [
    "# Nodes \n",
    "import networkx as nx\n",
    "\n",
    "G = nx.Graph()\n",
    "\n",
    "# add one node at a time\n",
    "G.add_node(node_for_adding=1)\n",
    "\n",
    "# add the nodes from any container (a list, dict, set or even the lines from a file or the nodes from another graph)\n",
    "G.add_nodes_from(nodes_for_adding=[2, 3])\n",
    "G.add_nodes_from(nodes_for_adding=range(100, 110))\n",
    "H = nx.path_graph(n=10)\n",
    "G.add_nodes_from(nodes_for_adding=H)\n",
    "\n",
    "# any hashable object in Python can be turned into a node \n",
    "G.add_nodes_from(nodes_for_adding=H)\n",
    "\n",
    "# adding nodes from string \n",
    "G.add_node(node_for_adding='spam') # adds node 'spam'\n",
    "G.add_nodes_from(nodes_for_adding='spam') # add nodes 's', 'p', 'a', 'm'\n"
   ]
  },
  {
   "cell_type": "code",
   "execution_count": 2,
   "metadata": {},
   "outputs": [
    {
     "name": "stdout",
     "output_type": "stream",
     "text": [
      "[(1, 2), (1, 3), (1, 0)]\n",
      "[(2, 2), (3, 7)]\n"
     ]
    }
   ],
   "source": [
    "# Edges \n",
    "import networkx as nx\n",
    "\n",
    "# graph can be grown by adding edges \n",
    "# add one edge \n",
    "G.add_edge(u_of_edge=1, v_of_edge=2)\n",
    "\n",
    "# add a list of edges \n",
    "G.add_edges_from(ebunch_to_add=[(1, 2), (1, 3)])\n",
    "\n",
    "# add a collection of edges \n",
    "G.add_edges_from(ebunch_to_add=H.edges)\n",
    "\n",
    "# note that if any node added by an edge function does not previously exist, the node is created prior to adding its \n",
    "# incident edge, and no errors are thrown/raised \n",
    "\n",
    "# find all edges incident to an nbunch\n",
    "# nbunch can be None (referring to all existing nodes in graph), a single node, or an iterable container of nodes \n",
    "for letter in list('spam'): \n",
    "    G.add_edge(u_of_edge=letter, v_of_edge=3) \n",
    "print(G.edges([1, 'spam']))\n",
    "print(G.degree([2, 3])) # degree of nodes 2 and 3 \n"
   ]
  },
  {
   "cell_type": "code",
   "execution_count": 14,
   "metadata": {
    "code_folding": []
   },
   "outputs": [
    {
     "name": "stdout",
     "output_type": "stream",
     "text": [
      "\n",
      "{'time': '5pm'}\n",
      "[(1, {'time': '5pm'}), (3, {'time': '2pm'})]\n",
      "4\n",
      "{2: {'weight': 4, 'color': 'blue'}}\n",
      "{2: {'weight': 4, 'color': 'blue'}}\n",
      "True\n",
      "[1, 2]\n",
      "5\n",
      "5\n"
     ]
    }
   ],
   "source": [
    "# Attributes \n",
    "# any graph, node, or edge can store a unique dictionary of key/value pairs specified by the programmer \n",
    "# for nodes and edges, setting KV pairs as varargs in the function call performs the job \n",
    "\n",
    "import networkx as nx \n",
    "\n",
    "# graph attribute \n",
    "G = nx.Graph(day='Friday')\n",
    "G.graph['month'] = 'December'\n",
    "G.graph.update({'year' : 2020})\n",
    "print(G)\n",
    "\n",
    "# node attribute \n",
    "G.add_node(node_for_adding=1, time='5pm')\n",
    "G.add_nodes_from(nodes_for_adding=[3], time='2pm')\n",
    "print(G.nodes[1])\n",
    "G.nodes[1]['room'] = 714 # node must be already present in graph, sets new KV pair {'room' : 714}\n",
    "del G.nodes[1]['room'] # removes attribute 'room' from node 1 \n",
    "print(list(G.nodes(data=True)))\n",
    "\n",
    "# edge attribute \n",
    "G.add_edge(u_of_edge=1, v_of_edge=2, weight=4.7) # adding edge from node 1 to node 2 with weight 4.7\n",
    "G.add_edges_from(ebunch_to_add=[(3, 4), (4, 5)], color='red') # adding two edges both with color red \n",
    "G.add_edges_from(ebunch_to_add=[(1, 2, {'color' : 'blue'}), (2, 3, {'weight' : 8})]) # adding two edges with separate attributes and values \n",
    "G[1][2]['weight'] = 4.7 # adding attribute weight 4.7 to pre-existing edge with endpoints 1 and 2 \n",
    "G.edges[1, 2]['weight'] = 4 # resetting attribute weight to 4 for edge with endpoints 1 and 2 \n",
    "len(G.edges) # number of edges in graph\n",
    "print(G.number_of_edges()) # number of edges in graph\n",
    "\n",
    "# accessing edges and neighbors \n",
    "print(G.adj[1]) # gets neighbors of node 1 \n",
    "print(G[1]) # same as G.adj[1] \n",
    "\n",
    "# shortcuts \n",
    "print(1 in G) # is there a node 1 in graph ? \n",
    "print([n for n in G if n < 3]) # iterate through nodes and collect all nodes < 3 \n",
    "print(len(G)) # number of nodes in graph \n",
    "print(G.number_of_nodes()) # number of nodes in graph\n",
    "\n",
    "for n, nbrsdict in G.adjacency():\n",
    "    for nbr, eattr in nbrsdict.items(): \n",
    "        if 'weight' in eattr: \n",
    "            # do something useful with the edges\n",
    "            pass \n",
    "\n",
    "for u, v, weight in G.edges.data(data='weight', default=None, nbunch=None): \n",
    "    if weight is not None: \n",
    "        # do something with the edges \n",
    "        pass"
   ]
  },
  {
   "cell_type": "code",
   "execution_count": 11,
   "metadata": {},
   "outputs": [
    {
     "name": "stdout",
     "output_type": "stream",
     "text": [
      "(1, 2, 0.125)\n",
      "(2, 1, 0.125)\n",
      "(3, 4, 0.375)\n",
      "(4, 3, 0.375)\n",
      "(1, 2, 0.125)\n",
      "(3, 4, 0.375)\n"
     ]
    }
   ],
   "source": [
    "import networkx as nx\n",
    "\n",
    "# fast examination of all adjacency node pairs in graph \n",
    "# note, for undirected graphs, each pair occurs twice in opposite order \n",
    "FG = nx.Graph()\n",
    "FG.add_weighted_edges_from(ebunch_to_add=[\n",
    "    (1, 2, 0.125), \n",
    "    (1, 3, 0.75), \n",
    "    (2, 4, 1.2), \n",
    "    (3, 4, 0.375)\n",
    "])\n",
    "\n",
    "# n = node, nbrs = neighbors, eattr = edge attribute \n",
    "for n, nbrs in FG.adj.items(): \n",
    "    for nbr, eattr in nbrs.items():\n",
    "        wt = eattr['weight']\n",
    "        if wt < 0.5: print('(%d, %d, %.3f)' % (n, nbr, wt))\n",
    "\n",
    "# same as above, only using FG.edges.data to retrieve each edge with format \n",
    "# u, v, specified attributes in data (in this case 'weight') \n",
    "# since edges are traversed rather than nodes, each unique edge appears only once \n",
    "for (u, v, wt) in FG.edges.data(data='weight'):\n",
    "    if wt < 0.5: print('(%d, %d, %.3f)' % (u, v, wt))\n"
   ]
  },
  {
   "cell_type": "markdown",
   "metadata": {},
   "source": [
    "### More Graph Functions"
   ]
  },
  {
   "cell_type": "code",
   "execution_count": 17,
   "metadata": {},
   "outputs": [
    {
     "name": "stdout",
     "output_type": "stream",
     "text": [
      "[(0, 1), (1, 2)]\n"
     ]
    },
    {
     "data": {
      "text/plain": [
       "[]"
      ]
     },
     "execution_count": 17,
     "metadata": {},
     "output_type": "execute_result"
    }
   ],
   "source": [
    "# networkx.Graph.remove_node\n",
    "# Graph.remove_node(n) Remove node n.\n",
    "# Removes the node n and all adjacent edges. Attempting to remove a non-existent node will raise an exception. Parameters n (node) – A node in the graph\n",
    "# Raises NetworkXError – If n is not in the graph.\n",
    "# See also:\n",
    "# remove_nodes_from()\n",
    "\n",
    "import networkx as nx \n",
    "\n",
    "G = nx.path_graph(n=3)\n",
    "print(list(G.edges))\n",
    "G.remove_node(n=1)\n",
    "list(G.edges)\n"
   ]
  },
  {
   "cell_type": "code",
   "execution_count": 18,
   "metadata": {},
   "outputs": [
    {
     "name": "stdout",
     "output_type": "stream",
     "text": [
      "[0, 1, 2]\n"
     ]
    },
    {
     "data": {
      "text/plain": [
       "[]"
      ]
     },
     "execution_count": 18,
     "metadata": {},
     "output_type": "execute_result"
    }
   ],
   "source": [
    "# networkx.Graph.remove_nodes_from\n",
    "# Graph.remove_nodes_from(nodes) Remove multiple nodes.\n",
    "# Parameters nodes (iterable container) – A container of nodes (list, dict, set, etc.). If a node in the container is not in the graph it is silently ignored.\n",
    "# See also:\n",
    "# remove_node()\n",
    "\n",
    "import networkx as nx\n",
    "G = nx.path_graph(n=3)\n",
    "e = list(G.nodes)\n",
    "print(e)\n",
    "G.remove_nodes_from(nodes=e)\n",
    "list(G.nodes)\n"
   ]
  },
  {
   "cell_type": "code",
   "execution_count": 24,
   "metadata": {},
   "outputs": [
    {
     "name": "stdout",
     "output_type": "stream",
     "text": [
      "[(0, 1, 3.0), (1, 2, 7.5), (2, 3, -1.0), (3, 4, -1.0)]\n",
      "[(0, 1, None), (1, 2, None), (2, 3, 3.0), (3, 4, 4.0)]\n"
     ]
    }
   ],
   "source": [
    "# networkx.Graph.add_weighted_edges_from\n",
    "# Graph.add_weighted_edges_from(ebunch_to_add, weight='weight', **attr) Add weighted edges in ebunch_to_add with specified weight attr\n",
    "# Parameters\n",
    "# • ebunch_to_add(containerofedges)–Eachedgegiveninthelistorcontainerwillbeadded\n",
    "# • weight (string, optional (default= ‘weight’)) – The attribute name for the edge weights to be added.\n",
    "# • attr (keyword arguments, optional (default= no attributes)) – Edge attributes to add/update for all edges.\n",
    "# add_edge() add a single edge\n",
    "\n",
    "# See also: \n",
    "#     add_edge() add a single edge\n",
    "    \n",
    "\n",
    "import networkx as nx\n",
    "\n",
    "G = nx.Graph()\n",
    "G.add_weighted_edges_from(ebunch_to_add=[(0, 1, 3.0), (1, 2, 7.5)])\n",
    "G.add_weighted_edges_from(ebunch_to_add=[(2, 3, 3.0), (3, 4, 4.0)], weight='wt')\n",
    "print(G.edges.data(data='weight', default=-1.0))\n",
    "print(G.edges.data(data='wt'))\n"
   ]
  },
  {
   "cell_type": "code",
   "execution_count": 26,
   "metadata": {},
   "outputs": [
    {
     "name": "stdout",
     "output_type": "stream",
     "text": [
      "[(0, 1), (1, 2), (2, 3)]\n",
      "[(2, 3)]\n",
      "[]\n"
     ]
    }
   ],
   "source": [
    "# networkx.Graph.remove_edge\n",
    "# Graph.remove_edge(u, v) Remove the edge between u and v.\n",
    "# Parameters u, v (nodes) – Remove the edge between nodes u and v.\n",
    "# Raises NetworkXError – If there is not an edge between u and v. See also:\n",
    "# remove_edges_from() remove a collection of edges\n",
    "\n",
    "import networkx as nx\n",
    "\n",
    "G = nx.path_graph(n=4)\n",
    "print(G.edges)\n",
    "G.remove_edge(u=0, v=1)\n",
    "e = (1, 2)\n",
    "G.remove_edge(*e) # unpacks e from an edge tuple \n",
    "print(G.edges)\n",
    "e = (2, 3, {'weight' : 7}) # an edge with an attribute data \n",
    "G.remove_edge(*e[:2]) # selects first portion of edge tuple, in this case, (1, 2) \n",
    "print(G.edges)\n"
   ]
  },
  {
   "cell_type": "code",
   "execution_count": 27,
   "metadata": {},
   "outputs": [
    {
     "name": "stdout",
     "output_type": "stream",
     "text": [
      "[(0, 1), (1, 2), (2, 3)]\n",
      "[(0, 1)]\n"
     ]
    }
   ],
   "source": [
    "# networkx.Graph.remove_edges_from\n",
    "# Graph.remove_edges_from(ebunch) Remove all edges specified in ebunch.\n",
    "# Parameters ebunch (list or container of edge tuples) – Each edge given in the list or container will be removed from the graph. The edges can be:\n",
    "# • 2-tuples (u, v) edge between u and v. • 3-tuples (u, v, k) where k is ignored.\n",
    "# See also:\n",
    "# remove_edge() remove a single edges\n",
    "\n",
    "# Notes\n",
    "# Will fail silently if an edge in ebunch is not in the graph.\n",
    "\n",
    "import networkx as nx\n",
    "\n",
    "G = nx.path_graph(n=4)\n",
    "print(G.edges)\n",
    "ebunch = [(1, 2), (2, 3)]\n",
    "G.remove_edges_from(ebunch=ebunch)\n",
    "print(G.edges)\n"
   ]
  },
  {
   "cell_type": "code",
   "execution_count": 29,
   "metadata": {},
   "outputs": [
    {
     "name": "stdout",
     "output_type": "stream",
     "text": [
      "48\n",
      "21\n"
     ]
    }
   ],
   "source": [
    "# networkx.Graph.update\n",
    "# Graph.update(edges=None, nodes=None)\n",
    "# Update the graph using nodes/edges/graphs as input.\n",
    "# Like dict.update, this method takes a graph as input, adding the graph’s nodes and edges to this graph. It can also take two inputs: edges and nodes. Finally it can take either edges or nodes. To specify only nodes the keyword nodes must be used.\n",
    "# The collections of edges and nodes are treated similarly to the add_edges_from/add_nodes_from methods. When iterated, they should yield 2-tuples (u, v) or 3-tuples (u, v, datadict).\n",
    "# Parameters\n",
    "# • edges (Graph object, collection of edges, or None) – The first parameter can be a graph or some edges. If it has attributes nodes and edges, then it is taken to be a Graph-like object and those attributes are used as collections of nodes and edges to be added to the graph. If the first parameter does not have those attributes, it is treated as a collection of edges and added to the graph. If the first argument is None, no edges are added.\n",
    "# • nodes (collection of nodes, or None) – The second parameter is treated as a collection of nodes to be added to the graph unless it is None. If edges is None and nodes is None an exception is raised. If the first parameter is a Graph, then nodes is ignored.\n",
    "\n",
    "import networkx as nx\n",
    "from itertools import combinations\n",
    "\n",
    "G = nx.path_graph(n=5)\n",
    "G.update(edges=nx.complete_graph(n=range(4, 10)))\n",
    "\n",
    "# edgess are formed by endpoints being all combinations of integers between 10 and 20 \n",
    "# such that the product of endpoints < 255 \n",
    "edges = ((u, v, {'power' : u * v}) for u, v in combinations(range(10, 20), 2) if u * v < 225)\n",
    "nodes = [1000] # for singleton, use a container \n",
    "G.update(edges=edges, nodes=nodes) \n",
    "print(G.number_of_edges())\n",
    "print(G.number_of_nodes())\n"
   ]
  },
  {
   "cell_type": "code",
   "execution_count": 30,
   "metadata": {},
   "outputs": [
    {
     "name": "stdout",
     "output_type": "stream",
     "text": [
      "[0, 1, 2, 3]\n",
      "[]\n"
     ]
    }
   ],
   "source": [
    "# Graph.clear()\n",
    "# Remove all nodes and edges from the graph.\n",
    "# This also removes the name, and all graph, node, and edge attributes.\n",
    "\n",
    "import networkx as nx \n",
    "\n",
    "G = nx.path_graph(n=4)\n",
    "print(G.nodes)\n",
    "G.clear()\n",
    "print(G.nodes)\n"
   ]
  },
  {
   "cell_type": "markdown",
   "metadata": {},
   "source": [
    "### Reporting Nodes, Edges, and Neighbors"
   ]
  },
  {
   "cell_type": "code",
   "execution_count": 3,
   "metadata": {},
   "outputs": [
    {
     "name": "stdout",
     "output_type": "stream",
     "text": [
      "[0, 1, 2]\n",
      "[0, 1, 2]\n",
      "[(0, {'foo': 'bar'}), (1, {'time': '5pm'}), (2, {})]\n",
      "[(0, {'foo': 'bar'}), (1, {'time': '5pm'}), (2, {})]\n",
      "[(0, 'bar'), (1, None), (2, None)]\n",
      "[(0, 'bar'), (1, None), (2, None)]\n",
      "[(0, None), (1, '5pm'), (2, None)]\n",
      "[(0, None), (1, '5pm'), (2, None)]\n",
      "[(0, 'Not Available'), (1, '5pm'), (2, 'Not Available')]\n",
      "[(0, 'Not Available'), (1, '5pm'), (2, 'Not Available')]\n"
     ]
    }
   ],
   "source": [
    "# networkx.Graph.nodes\n",
    "# property Graph.nodes\n",
    "# A NodeView of the Graph as G.nodes or G.nodes().\n",
    "# A NodeView of the Graph as G.nodes or G.nodes().\n",
    "# Iterate over the nodes.\n",
    "# Returns True if the graph contains the node n.\n",
    "# Returns True if n is a node, False otherwise.\n",
    "# An EdgeView of the Graph as G.edges or G.edges().\n",
    "# Returns True if the edge (u, v) is in the graph.\n",
    "# Returns the attribute dictionary associated with edge (u, v).\n",
    "# Returns an iterator over all neighbors of node n.\n",
    "# Graph adjacency object holding the neighbors of each node.\n",
    "# Returns a dict of neighbors of node n.\n",
    "# Returns an iterator over (node, adjacency dict) tuples for all nodes.\n",
    "# Returns an iterator over nodes contained in nbunch that are also in the graph.\n",
    "\n",
    "# Parameters\n",
    "# • data (string or bool, optional (default=False)) – The node attribute returned in 2-tuple (n, ddict[data]). If True, return entire node attribute dict as (n, ddict). If False, return just the nodes n.\n",
    "# • default (value, optional (default=None)) – Value used for nodes that don’t have the re- quested attribute. Only relevant if data is not True or False.\n",
    "# Returns\n",
    "# Allows set-like operations over the nodes as well as node attribute dict lookup and calling to getaNodeDataView.ANodeDataViewiteratesover(n, data)andhasnosetoperations.An\n",
    "\n",
    "# NodeView iterates over n and includes set operations.\n",
    "# When called, if data is False, an iterator over nodes. Otherwise an iterator of 2-tuples (node, attribute value) where the attribute is specified in data. If data is True then the attribute becomes the entire data dictionary.\n",
    "# Return type NodeView\n",
    "\n",
    "# Notes\n",
    "# Ifyournodedataisnotneeded,itissimplerandequivalenttousetheexpressionfor n in G,orlist(G). \n",
    "\n",
    "import networkx as nx\n",
    "\n",
    "# iterate through all nodes \n",
    "G = nx.path_graph(n=3)\n",
    "print(G.nodes)\n",
    "print(list(G))\n",
    "\n",
    "# iterate through all nodes with data present \n",
    "G.add_node(node_for_adding=1, time='5pm')\n",
    "G.nodes[0]['foo'] = 'bar'\n",
    "print(list(G.nodes.data(data=True))) # show all nodes in graph with all existing attributes \n",
    "print(list(G.nodes.data())) \n",
    "print(list(G.nodes.data(data='foo'))) # show all nodes with 'foo' attribute \n",
    "print(list(G.nodes.data('foo')))\n",
    "print(list(G.nodes.data(data='time'))) # show all nodes with 'time' attribute \n",
    "print(list(G.nodes.data('time')))\n",
    "print(list(G.nodes.data(data='time', default='Not Available'))) # show all nodes with 'time' attribute and defaulting to 'Not Available' \n",
    "print(list(G.nodes.data('time', 'Not Available')))\n"
   ]
  },
  {
   "cell_type": "code",
   "execution_count": 4,
   "metadata": {},
   "outputs": [
    {
     "name": "stdout",
     "output_type": "stream",
     "text": [
      "[0, 1, 2, 3]\n",
      "[0, 1, 2, 3]\n"
     ]
    }
   ],
   "source": [
    "# networkx.Graph.__iter__\n",
    "# Graph.__iter__()\n",
    "# Iterate over the nodes. Use: ‘for n in G’.\n",
    "# Returns niter – An iterator over all nodes in the graph. Return type iterator\n",
    "\n",
    "import networkx as nx\n",
    "\n",
    "G = nx.path_graph(n=4)\n",
    "nodes_list = [n for n in G]\n",
    "print(nodes_list)\n",
    "print(list(G))\n"
   ]
  },
  {
   "cell_type": "code",
   "execution_count": 5,
   "metadata": {},
   "outputs": [
    {
     "name": "stdout",
     "output_type": "stream",
     "text": [
      "True\n",
      "False\n"
     ]
    }
   ],
   "source": [
    "# networkx.Graph.has_node\n",
    "# Graph.has_node(n)\n",
    "# Returns True if the graph contains the node n.\n",
    "# Identicalton in G Parameters n (node)\n",
    "\n",
    "import networkx as nx\n",
    "\n",
    "G = nx.path_graph(n=3) # 0-1-2\n",
    "print(G.has_node(n=0))\n",
    "print(0 in G) # same as above line but simpler \n",
    "print(G.has_node(n=3))\n"
   ]
  },
  {
   "cell_type": "code",
   "execution_count": 6,
   "metadata": {},
   "outputs": [
    {
     "name": "stdout",
     "output_type": "stream",
     "text": [
      "True\n",
      "True\n"
     ]
    }
   ],
   "source": [
    "# networkx.Graph.__contains__\n",
    "# Graph.__contains__(n)\n",
    "# Returns True if n is a node, False otherwise. Use: ‘n in G’. \n",
    "\n",
    "import networkx as nx\n",
    "G = nx.path_graph(n=4)\n",
    "print(G.__contains__(n=1))\n",
    "print(1 in G) # same as above line but simpler \n"
   ]
  },
  {
   "cell_type": "code",
   "execution_count": 7,
   "metadata": {},
   "outputs": [
    {
     "name": "stdout",
     "output_type": "stream",
     "text": [
      "[(0, 1), (1, 2), (2, 3)]\n",
      "[(0, 1, {}), (1, 2, {}), (2, 3, {'weight': 5})]\n",
      "[(0, 1, 1), (1, 2, 1), (2, 3, 5)]\n",
      "[(0, 1), (3, 2)]\n",
      "[(0, 1)]\n"
     ]
    }
   ],
   "source": [
    "# networkx.Graph.edges\n",
    "# property Graph.edges\n",
    "# An EdgeView of the Graph as G.edges or G.edges().\n",
    "# edges(self, nbunch=None, data=False, default=None)\n",
    "# The EdgeView provides set-like operations on the edge-tuples as well as edge attribute lookup. When called, it also provides an EdgeDataView object which allows control of access to edge attributes (but does not pro- vide set-like operations). Hence, G.edges[u, v]['color'] provides the value of the color attribute for edge (u, v) while for (u, v, c) in G.edges.data('color', default='red'): iterates through all the edges yielding the color attribute with default 'red' if no color attribute exists.\n",
    "# Parameters\n",
    "# • nbunch (single node, container, or all nodes (default= all nodes)) – The view will only\n",
    "# report edges incident to these nodes.\n",
    "# • data(stringorbool,optional(default=False))–Theedgeattributereturnedin3-tuple(u,v, ddict[data]). If True, return edge attribute dict in 3-tuple (u, v, ddict). If False, return 2-tuple (u, v).\n",
    "# • default (value, optional (default=None)) – Value used for edges that don’t have the re- quested attribute. Only relevant if data is not True or False.\n",
    "# Returns edges – A view of edge attributes, usually it iterates over (u, v) or (u, v, d) tuples of edges, butcanalsobeusedforattributelookupasedges[u, v]['foo'].\n",
    "# Return type EdgeView\n",
    "\n",
    "# Notes\n",
    "# Nodes in nbunch that are not in the graph will be (quietly) ignored. For directed graphs this returns the out-edges.\n",
    "\n",
    "import networkx as nx\n",
    "G = nx.path_graph(n=3)\n",
    "G.add_edge(u_of_edge=2, v_of_edge=3, weight=5)\n",
    "edge_list = [e for e in G.edges]\n",
    "print(edge_list)\n",
    "print(G.edges.data()) # default data is {} (empty dict)\n",
    "print(G.edges.data(data='weight', default=1)) # show all edges and their weights \n",
    "print(G.edges(nbunch=[0, 3])) # show edges only incident to nodes 0 and 3\n",
    "print(G.edges(nbunch=0)) # only edges incident to a single node (use G.adj[0]?) \n"
   ]
  },
  {
   "cell_type": "code",
   "execution_count": 11,
   "metadata": {},
   "outputs": [
    {
     "name": "stdout",
     "output_type": "stream",
     "text": [
      "True\n",
      "True\n",
      "True\n"
     ]
    }
   ],
   "source": [
    "# networkx.Graph.has_edge\n",
    "# Graph.has_edge(u, v)\n",
    "# Returns True if the edge (u, v) is in the graph.\n",
    "# Thisisthesameasv in G[u]withoutKeyErrorexceptions.\n",
    "# Parameters u, v (nodes) – Nodes can be, for example, strings or numbers. Nodes must be hashable\n",
    "# (and not None) Python objects.\n",
    "# Returns edge_ind – True if edge is in the graph, False otherwise. Return type bool \n",
    "\n",
    "import networkx as nx\n",
    "\n",
    "G = nx.path_graph(n=4)\n",
    "print(G.has_edge(u=0, v=1))\n",
    "e = (0, 1)\n",
    "print(G.has_edge(*e)) # de-referencing tuple as edge \n",
    "e = (0, 1, {'weight' : 7})\n",
    "print(G.has_edge(*e[:2])) # de-refering slice of tuple as edge\n"
   ]
  },
  {
   "cell_type": "code",
   "execution_count": 13,
   "metadata": {},
   "outputs": [
    {
     "name": "stdout",
     "output_type": "stream",
     "text": [
      "{}\n",
      "7\n",
      "{'weight': 7}\n",
      "{}\n",
      "True\n",
      "0\n"
     ]
    }
   ],
   "source": [
    "# networkx.Graph.get_edge_data\n",
    "# Graph.get_edge_data(u, v, default=None)\n",
    "# Returns the attribute dictionary associated with edge (u, v).\n",
    "# This is identical to G[u][v] except the default is returned instead of an exception if the edge doesn’t exist. Parameters\n",
    "# • u, v (nodes)\n",
    "# • default (any Python object (default=None)) – Value to return if the edge (u, v) is not found. Returns edge_dict – The edge attribute dictionary.\n",
    "# Return type dictionary\n",
    "\n",
    "import networkx as nx\n",
    "\n",
    "G = nx.path_graph(n=4)\n",
    "print(G[0][1]) # edge with endpoints 0 and 1\n",
    "G[0][1]['weight'] = 7\n",
    "print(G[0][1]['weight'])\n",
    "print(G.get_edge_data(u=0, v=1)) # get dict of attributes in edge with endpoitns 0 and 1\n",
    "e = (2, 3) \n",
    "print(G.get_edge_data(*e)) # no attributes return empty dict {}\n",
    "print(G.get_edge_data(u=11, v=12) is None) # return None for non-existent edge\n",
    "print(G.get_edge_data(u='a', v='b', default=0)) # returns default \n"
   ]
  },
  {
   "cell_type": "code",
   "execution_count": null,
   "metadata": {},
   "outputs": [],
   "source": [
    "# networkx.Graph.neighbors\n",
    "# Graph.neighbors(n)\n",
    "# Returns an iterator over all neighbors of node n.\n",
    "# This is identical to iter(G[n])\n",
    "# Parameters n (node) – A node in the graph\n",
    "# Returns neighbors – An iterator over all neighbors of node n Return type iterator\n",
    "# Raises NetworkXError – If the node n is not in the graph.\n",
    "\n",
    "# networkx.Graph.adj\n",
    "# property Graph.adj\n",
    "# Graph adjacency object holding the neighbors of each node.\n",
    "# This object is a read-only dict-like structure with node keys and neighbor-dict values. The neighbor-dict is keyed byneighbortotheedge-data-dict.SoG.adj[3][2]['color'] = 'blue'setsthecoloroftheedge(3, 2) to \"blue\".\n",
    "# Iterating over G.adj behaves like a dict. Useful idioms include for nbr, datadict in G.adj[n]. items():.\n",
    "# The neighbor information is also provided by subscripting the graph. So for nbr, foovalue in G[node].data('foo', default=1): works.\n",
    "# For directed graphs, G.adj holds outgoing (successor) info.\n",
    "\n",
    "import networkx as nx\n",
    "\n",
    "G = nx.path_graph(n=4)\n",
    "print([n for n in G.neighbors(n=0)]) # neighbors of node 0\n",
    "\n",
    "# alternate ways to access the neighbors are G.adj[n] or G[n]:\n",
    "G = nx.Graph()\n",
    "G.add_edge(u_of_edge='a', v_of_edge='b', weight=7)\n",
    "print(G['a']) # neighbor of node 'a'\n",
    "print(G.adj['a'])"
   ]
  },
  {
   "cell_type": "code",
   "execution_count": 14,
   "metadata": {},
   "outputs": [
    {
     "name": "stdout",
     "output_type": "stream",
     "text": [
      "{1: {}}\n",
      "{1: {}}\n"
     ]
    }
   ],
   "source": [
    "# networkx.Graph.__getitem__\n",
    "# Graph.__getitem__(n)\n",
    "# Returns a dict of neighbors of node n. Use: ‘G[n]’.\n",
    "# Parameters n (node) – A node in the graph.\n",
    "# Returns adj_dict – The adjacency dictionary for nodes connected to n. Return type dictionary\n",
    "\n",
    "import networkx as nx\n",
    "\n",
    "G = nx.path_graph(n=4)\n",
    "print(G[0]) # get neighbors of node 0\n",
    "print(G.__getitem__(n=0)) # same line of code above \n"
   ]
  },
  {
   "cell_type": "code",
   "execution_count": 15,
   "metadata": {},
   "outputs": [
    {
     "name": "stdout",
     "output_type": "stream",
     "text": [
      "[(0, {1: {}}), (1, {0: {}, 2: {}}), (2, {1: {}, 3: {}}), (3, {2: {}})]\n"
     ]
    }
   ],
   "source": [
    "# networkx.Graph.adjacency\n",
    "# Graph.adjacency()\n",
    "# Returns an iterator over (node, adjacency dict) tuples for all nodes.\n",
    "# For directed graphs, only outgoing neighbors/adjacencies are included.\n",
    "# Returns adj_iter – An iterator over (node, adjacency dictionary) for all nodes in the graph. Return type iterator\n",
    "\n",
    "import networkx as nx\n",
    "\n",
    "G = nx.path_graph(n=4)\n",
    "print([(n, nbrdict) for n, nbrdict in G.adjacency()])\n"
   ]
  },
  {
   "cell_type": "code",
   "execution_count": 18,
   "metadata": {},
   "outputs": [
    {
     "name": "stdout",
     "output_type": "stream",
     "text": [
      "0\n",
      "1\n",
      "2\n"
     ]
    }
   ],
   "source": [
    "# networkx.Graph.nbunch_iter\n",
    "# Graph.nbunch_iter(nbunch=None)\n",
    "# Returns an iterator over nodes contained in nbunch that are also in the graph.\n",
    "# The nodes in nbunch are checked for membership in the graph and if not are silently ignored.\n",
    "# Parameters nbunch(singlenode,container,orallnodes(default=allnodes))–Theviewwillonly report edges incident to these nodes.\n",
    "# Returns niter – An iterator over nodes in nbunch that are also in the graph. If nbunch is None, iterate over all nodes in the graph.\n",
    "# Return type iterator\n",
    "# Raises NetworkXError – If nbunch is not a node or or sequence of nodes. If a node in nbunch is\n",
    "# not hashable.\n",
    "# See also:\n",
    "# Graph.__iter__()\n",
    "\n",
    "import networkx as nx\n",
    "\n",
    "G = nx.path_graph(n=6)\n",
    "it = G.nbunch_iter(nbunch=range(0, 3)) # iterate nodes 0, 1, 2 inclusive\n",
    "for counter in range(3):\n",
    "    print(next(it)) \n"
   ]
  },
  {
   "cell_type": "code",
   "execution_count": null,
   "metadata": {},
   "outputs": [],
   "source": []
  }
 ],
 "metadata": {
  "kernelspec": {
   "display_name": "PyCharm (USP_Research_Summer_2020)",
   "language": "python",
   "name": "pycharm-997815bc"
  },
  "language_info": {
   "codemirror_mode": {
    "name": "ipython",
    "version": 3
   },
   "file_extension": ".py",
   "mimetype": "text/x-python",
   "name": "python",
   "nbconvert_exporter": "python",
   "pygments_lexer": "ipython3",
   "version": "3.8.2"
  },
  "varInspector": {
   "cols": {
    "lenName": 16,
    "lenType": 16,
    "lenVar": 40
   },
   "kernels_config": {
    "python": {
     "delete_cmd_postfix": "",
     "delete_cmd_prefix": "del ",
     "library": "var_list.py",
     "varRefreshCmd": "print(var_dic_list())"
    },
    "r": {
     "delete_cmd_postfix": ") ",
     "delete_cmd_prefix": "rm(",
     "library": "var_list.r",
     "varRefreshCmd": "cat(var_dic_list()) "
    }
   },
   "types_to_exclude": [
    "module",
    "function",
    "builtin_function_or_method",
    "instance",
    "_Feature"
   ],
   "window_display": false
  }
 },
 "nbformat": 4,
 "nbformat_minor": 1
}
